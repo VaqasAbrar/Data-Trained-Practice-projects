{
 "cells": [
  {
   "cell_type": "code",
   "execution_count": 34,
   "metadata": {},
   "outputs": [],
   "source": [
    "import pandas as pd\n",
    "import numpy as np\n",
    "from sklearn.model_selection import train_test_split"
   ]
  },
  {
   "cell_type": "code",
   "execution_count": 35,
   "metadata": {},
   "outputs": [
    {
     "data": {
      "text/html": [
       "<div>\n",
       "<style scoped>\n",
       "    .dataframe tbody tr th:only-of-type {\n",
       "        vertical-align: middle;\n",
       "    }\n",
       "\n",
       "    .dataframe tbody tr th {\n",
       "        vertical-align: top;\n",
       "    }\n",
       "\n",
       "    .dataframe thead th {\n",
       "        text-align: right;\n",
       "    }\n",
       "</style>\n",
       "<table border=\"1\" class=\"dataframe\">\n",
       "  <thead>\n",
       "    <tr style=\"text-align: right;\">\n",
       "      <th></th>\n",
       "      <th>Unnamed: 0</th>\n",
       "      <th>TV</th>\n",
       "      <th>radio</th>\n",
       "      <th>newspaper</th>\n",
       "      <th>sales</th>\n",
       "    </tr>\n",
       "  </thead>\n",
       "  <tbody>\n",
       "    <tr>\n",
       "      <th>0</th>\n",
       "      <td>1</td>\n",
       "      <td>230.1</td>\n",
       "      <td>37.8</td>\n",
       "      <td>69.2</td>\n",
       "      <td>22.1</td>\n",
       "    </tr>\n",
       "    <tr>\n",
       "      <th>1</th>\n",
       "      <td>2</td>\n",
       "      <td>44.5</td>\n",
       "      <td>39.3</td>\n",
       "      <td>45.1</td>\n",
       "      <td>10.4</td>\n",
       "    </tr>\n",
       "    <tr>\n",
       "      <th>2</th>\n",
       "      <td>3</td>\n",
       "      <td>17.2</td>\n",
       "      <td>45.9</td>\n",
       "      <td>69.3</td>\n",
       "      <td>9.3</td>\n",
       "    </tr>\n",
       "    <tr>\n",
       "      <th>3</th>\n",
       "      <td>4</td>\n",
       "      <td>151.5</td>\n",
       "      <td>41.3</td>\n",
       "      <td>58.5</td>\n",
       "      <td>18.5</td>\n",
       "    </tr>\n",
       "    <tr>\n",
       "      <th>4</th>\n",
       "      <td>5</td>\n",
       "      <td>180.8</td>\n",
       "      <td>10.8</td>\n",
       "      <td>58.4</td>\n",
       "      <td>12.9</td>\n",
       "    </tr>\n",
       "    <tr>\n",
       "      <th>...</th>\n",
       "      <td>...</td>\n",
       "      <td>...</td>\n",
       "      <td>...</td>\n",
       "      <td>...</td>\n",
       "      <td>...</td>\n",
       "    </tr>\n",
       "    <tr>\n",
       "      <th>195</th>\n",
       "      <td>196</td>\n",
       "      <td>38.2</td>\n",
       "      <td>3.7</td>\n",
       "      <td>13.8</td>\n",
       "      <td>7.6</td>\n",
       "    </tr>\n",
       "    <tr>\n",
       "      <th>196</th>\n",
       "      <td>197</td>\n",
       "      <td>94.2</td>\n",
       "      <td>4.9</td>\n",
       "      <td>8.1</td>\n",
       "      <td>9.7</td>\n",
       "    </tr>\n",
       "    <tr>\n",
       "      <th>197</th>\n",
       "      <td>198</td>\n",
       "      <td>177.0</td>\n",
       "      <td>9.3</td>\n",
       "      <td>6.4</td>\n",
       "      <td>12.8</td>\n",
       "    </tr>\n",
       "    <tr>\n",
       "      <th>198</th>\n",
       "      <td>199</td>\n",
       "      <td>283.6</td>\n",
       "      <td>42.0</td>\n",
       "      <td>66.2</td>\n",
       "      <td>25.5</td>\n",
       "    </tr>\n",
       "    <tr>\n",
       "      <th>199</th>\n",
       "      <td>200</td>\n",
       "      <td>232.1</td>\n",
       "      <td>8.6</td>\n",
       "      <td>8.7</td>\n",
       "      <td>13.4</td>\n",
       "    </tr>\n",
       "  </tbody>\n",
       "</table>\n",
       "<p>200 rows × 5 columns</p>\n",
       "</div>"
      ],
      "text/plain": [
       "     Unnamed: 0     TV  radio  newspaper  sales\n",
       "0             1  230.1   37.8       69.2   22.1\n",
       "1             2   44.5   39.3       45.1   10.4\n",
       "2             3   17.2   45.9       69.3    9.3\n",
       "3             4  151.5   41.3       58.5   18.5\n",
       "4             5  180.8   10.8       58.4   12.9\n",
       "..          ...    ...    ...        ...    ...\n",
       "195         196   38.2    3.7       13.8    7.6\n",
       "196         197   94.2    4.9        8.1    9.7\n",
       "197         198  177.0    9.3        6.4   12.8\n",
       "198         199  283.6   42.0       66.2   25.5\n",
       "199         200  232.1    8.6        8.7   13.4\n",
       "\n",
       "[200 rows x 5 columns]"
      ]
     },
     "execution_count": 35,
     "metadata": {},
     "output_type": "execute_result"
    }
   ],
   "source": [
    "df=pd.read_csv(\"Advertising.csv\")\n",
    "df"
   ]
  },
  {
   "cell_type": "code",
   "execution_count": 36,
   "metadata": {},
   "outputs": [
    {
     "data": {
      "text/plain": [
       "(200, 5)"
      ]
     },
     "execution_count": 36,
     "metadata": {},
     "output_type": "execute_result"
    }
   ],
   "source": [
    "df.shape"
   ]
  },
  {
   "cell_type": "code",
   "execution_count": 37,
   "metadata": {},
   "outputs": [
    {
     "data": {
      "text/plain": [
       "Unnamed: 0      int64\n",
       "TV            float64\n",
       "radio         float64\n",
       "newspaper     float64\n",
       "sales         float64\n",
       "dtype: object"
      ]
     },
     "execution_count": 37,
     "metadata": {},
     "output_type": "execute_result"
    }
   ],
   "source": [
    "df.dtypes"
   ]
  },
  {
   "cell_type": "code",
   "execution_count": 38,
   "metadata": {},
   "outputs": [
    {
     "data": {
      "text/plain": [
       "Unnamed: 0    0\n",
       "TV            0\n",
       "radio         0\n",
       "newspaper     0\n",
       "sales         0\n",
       "dtype: int64"
      ]
     },
     "execution_count": 38,
     "metadata": {},
     "output_type": "execute_result"
    }
   ],
   "source": [
    "df.isnull().sum()"
   ]
  },
  {
   "cell_type": "code",
   "execution_count": 39,
   "metadata": {},
   "outputs": [
    {
     "data": {
      "image/png": "[encoded data removed]",
      "text/plain": [
       "<Figure size 432x288 with 2 Axes>"
      ]
     },
     "metadata": {
      "needs_background": "light"
     },
     "output_type": "display_data"
    }
   ],
   "source": [
    "import seaborn as sns\n",
    "import matplotlib.pyplot as plt\n",
    "sns.heatmap(df.isnull())\n",
    "plt.title('Null Values')\n",
    "plt.show()"
   ]
  },
  {
   "cell_type": "markdown",
   "metadata": {},
   "source": [
    "No Null Values present in the data set."
   ]
  },
  {
   "cell_type": "markdown",
   "metadata": {},
   "source": [
    "# Data Visualisation"
   ]
  },
  {
   "cell_type": "code",
   "execution_count": 40,
   "metadata": {},
   "outputs": [
    {
     "data": {
      "image/png": "[encoded data removed]",
      "text/plain": [
       "<Figure size 432x288 with 1 Axes>"
      ]
     },
     "metadata": {
      "needs_background": "light"
     },
     "output_type": "display_data"
    }
   ],
   "source": [
    "sns.distplot(df['TV'],kde=True)\n",
    "plt.title('TV')\n",
    "plt.show()"
   ]
  },
  {
   "cell_type": "code",
   "execution_count": 41,
   "metadata": {},
   "outputs": [
    {
     "data": {
      "image/png": "[encoded data removed]",
      "text/plain": [
       "<Figure size 432x288 with 1 Axes>"
      ]
     },
     "metadata": {
      "needs_background": "light"
     },
     "output_type": "display_data"
    }
   ],
   "source": [
    "sns.distplot(df['radio'],kde=True)\n",
    "plt.title('radio')\n",
    "plt.show()"
   ]
  },
  {
   "cell_type": "code",
   "execution_count": 42,
   "metadata": {},
   "outputs": [
    {
     "data": {
      "image/png": "[encoded data removed]",
      "text/plain": [
       "<Figure size 432x288 with 1 Axes>"
      ]
     },
     "metadata": {
      "needs_background": "light"
     },
     "output_type": "display_data"
    }
   ],
   "source": [
    "sns.distplot(df['newspaper'],kde=True)\n",
    "plt.title('newspaper')\n",
    "plt.show()"
   ]
  },
  {
   "cell_type": "code",
   "execution_count": 43,
   "metadata": {},
   "outputs": [
    {
     "data": {
      "image/png": "[encoded data removed]",
      "text/plain": [
       "<Figure size 432x288 with 2 Axes>"
      ]
     },
     "metadata": {
      "needs_background": "light"
     },
     "output_type": "display_data"
    }
   ],
   "source": [
    "sns.heatmap(df.corr(), annot=True)\n",
    "plt.title('Correlation Matrix')\n",
    "plt.show()"
   ]
  },
  {
   "cell_type": "markdown",
   "metadata": {},
   "source": [
    "With our target variable highest correlation is 0.78 with TV."
   ]
  },
  {
   "cell_type": "code",
   "execution_count": 44,
   "metadata": {},
   "outputs": [
    {
     "data": {
      "text/plain": [
       "sales         1.000000\n",
       "TV            0.782224\n",
       "radio         0.576223\n",
       "newspaper     0.228299\n",
       "Unnamed: 0   -0.051616\n",
       "Name: sales, dtype: float64"
      ]
     },
     "execution_count": 44,
     "metadata": {},
     "output_type": "execute_result"
    }
   ],
   "source": [
    "corr_matrix=df.corr()\n",
    "corr_matrix['sales'].sort_values(ascending=False)"
   ]
  },
  {
   "cell_type": "code",
   "execution_count": 45,
   "metadata": {},
   "outputs": [
    {
     "data": {
      "text/plain": [
       "Unnamed: 0    0.000000\n",
       "TV           -0.069853\n",
       "radio         0.094175\n",
       "newspaper     0.894720\n",
       "sales         0.407571\n",
       "dtype: float64"
      ]
     },
     "execution_count": 45,
     "metadata": {},
     "output_type": "execute_result"
    }
   ],
   "source": [
    "df.skew()"
   ]
  },
  {
   "cell_type": "markdown",
   "metadata": {},
   "source": [
    "Keeping +/-(0.5) as the range of skewness. Newspaper is 0.89 which is higher."
   ]
  },
  {
   "cell_type": "code",
   "execution_count": 46,
   "metadata": {},
   "outputs": [],
   "source": [
    "x=df.drop('sales', axis =1)\n",
    "y=df['sales']"
   ]
  },
  {
   "cell_type": "code",
   "execution_count": 49,
   "metadata": {},
   "outputs": [],
   "source": [
    "from sklearn.preprocessing import power_transform\n",
    "df.new=power_transform(x)\n",
    "\n",
    "df.new=pd.DataFrame(df.new,columns=x.columns)"
   ]
  },
  {
   "cell_type": "code",
   "execution_count": 50,
   "metadata": {},
   "outputs": [
    {
     "data": {
      "text/plain": [
       "Unnamed: 0   -0.268270\n",
       "TV           -0.315199\n",
       "radio        -0.242968\n",
       "newspaper    -0.077942\n",
       "dtype: float64"
      ]
     },
     "execution_count": 50,
     "metadata": {},
     "output_type": "execute_result"
    }
   ],
   "source": [
    "df.new.skew()"
   ]
  },
  {
   "cell_type": "markdown",
   "metadata": {},
   "source": [
    "# Checking for outliers"
   ]
  },
  {
   "cell_type": "code",
   "execution_count": 51,
   "metadata": {},
   "outputs": [
    {
     "data": {
      "image/png": "[encoded data removed]",
      "text/plain": [
       "<Figure size 1440x576 with 1 Axes>"
      ]
     },
     "metadata": {
      "needs_background": "light"
     },
     "output_type": "display_data"
    }
   ],
   "source": [
    "x.boxplot(figsize=[20,8])\n",
    "plt.subplots_adjust(bottom=.25)\n",
    "plt.show()"
   ]
  },
  {
   "cell_type": "markdown",
   "metadata": {},
   "source": [
    "Very few outliers colud be seen at Newspaper. It can be left untreated."
   ]
  },
  {
   "cell_type": "markdown",
   "metadata": {},
   "source": [
    "# Scaling the data using Min-Max Scaler:"
   ]
  },
  {
   "cell_type": "code",
   "execution_count": 67,
   "metadata": {},
   "outputs": [],
   "source": [
    "from sklearn.preprocessing import MinMaxScaler \n",
    "mms=MinMaxScaler() \n",
    "from sklearn.linear_model import LinearRegression \n",
    "lr=LinearRegression() \n",
    "from sklearn.metrics import r2_score "
   ]
  },
  {
   "cell_type": "code",
   "execution_count": 70,
   "metadata": {},
   "outputs": [
    {
     "name": "stdout",
     "output_type": "stream",
     "text": [
      "At randon state 0, the training accuracy is:- 0.9073274552252846\n",
      "At random state 0, the testing accuracy is:0.856480214327925\n",
      "\n",
      "\n",
      "At randon state 1, the training accuracy is:- 0.8959391993971187\n",
      "At random state 1, the testing accuracy is:0.8928781912093181\n",
      "\n",
      "\n",
      "At randon state 2, the training accuracy is:- 0.9152614531156523\n",
      "At random state 2, the testing accuracy is:0.7570326409482367\n",
      "\n",
      "\n",
      "At randon state 3, the training accuracy is:- 0.8931443451313652\n",
      "At random state 3, the testing accuracy is:0.9134449674582059\n",
      "\n",
      "\n",
      "At randon state 4, the training accuracy is:- 0.8911682084041699\n",
      "At random state 4, the testing accuracy is:0.9084934434517352\n",
      "\n",
      "\n",
      "At randon state 5, the training accuracy is:- 0.89570620107301\n",
      "At random state 5, the testing accuracy is:0.89851958363058\n",
      "\n",
      "\n",
      "At randon state 6, the training accuracy is:- 0.8915582028345674\n",
      "At random state 6, the testing accuracy is:0.921941222913581\n",
      "\n",
      "\n",
      "At randon state 7, the training accuracy is:- 0.8929171093102488\n",
      "At random state 7, the testing accuracy is:0.9094946118605033\n",
      "\n",
      "\n",
      "At randon state 8, the training accuracy is:- 0.9089671598668994\n",
      "At random state 8, the testing accuracy is:0.8454524606304807\n",
      "\n",
      "\n",
      "At randon state 9, the training accuracy is:- 0.8897879071515497\n",
      "At random state 9, the testing accuracy is:0.9254791165935141\n",
      "\n",
      "\n",
      "At randon state 10, the training accuracy is:- 0.9210064755430887\n",
      "At random state 10, the testing accuracy is:0.8350889287403334\n",
      "\n",
      "\n",
      "At randon state 11, the training accuracy is:- 0.9111623809104603\n",
      "At random state 11, the testing accuracy is:0.8449820092996336\n",
      "\n",
      "\n",
      "At randon state 12, the training accuracy is:- 0.8918075499129059\n",
      "At random state 12, the testing accuracy is:0.9110007582766769\n",
      "\n",
      "\n",
      "At randon state 13, the training accuracy is:- 0.887016186914774\n",
      "At random state 13, the testing accuracy is:0.9305870148904292\n",
      "\n",
      "\n",
      "At randon state 14, the training accuracy is:- 0.9086355983008996\n",
      "At random state 14, the testing accuracy is:0.8549475163509118\n",
      "\n",
      "\n",
      "At randon state 15, the training accuracy is:- 0.8938079254185115\n",
      "At random state 15, the testing accuracy is:0.9055692412310968\n",
      "\n",
      "\n",
      "At randon state 16, the training accuracy is:- 0.8926643673594483\n",
      "At random state 16, the testing accuracy is:0.9179051167419227\n",
      "\n",
      "\n",
      "At randon state 17, the training accuracy is:- 0.9116703196823303\n",
      "At random state 17, the testing accuracy is:0.8260144163842627\n",
      "\n",
      "\n",
      "At randon state 18, the training accuracy is:- 0.9058537276169787\n",
      "At random state 18, the testing accuracy is:0.8692586836034338\n",
      "\n",
      "\n",
      "At randon state 19, the training accuracy is:- 0.8936964884458823\n",
      "At random state 19, the testing accuracy is:0.9035293150713195\n",
      "\n",
      "\n",
      "At randon state 20, the training accuracy is:- 0.8940674217997686\n",
      "At random state 20, the testing accuracy is:0.9028631545455051\n",
      "\n",
      "\n",
      "At randon state 21, the training accuracy is:- 0.8890540600770627\n",
      "At random state 21, the testing accuracy is:0.9146569039385174\n",
      "\n",
      "\n",
      "At randon state 22, the training accuracy is:- 0.8899973381223143\n",
      "At random state 22, the testing accuracy is:0.9182082402965809\n",
      "\n",
      "\n",
      "At randon state 23, the training accuracy is:- 0.8921767001074105\n",
      "At random state 23, the testing accuracy is:0.9099324713476881\n",
      "\n",
      "\n",
      "At randon state 24, the training accuracy is:- 0.8948669853718487\n",
      "At random state 24, the testing accuracy is:0.9031175758867456\n",
      "\n",
      "\n",
      "At randon state 25, the training accuracy is:- 0.901084029469538\n",
      "At random state 25, the testing accuracy is:0.8720389628792304\n",
      "\n",
      "\n",
      "At randon state 26, the training accuracy is:- 0.9008142925470226\n",
      "At random state 26, the testing accuracy is:0.8660817826604932\n",
      "\n",
      "\n",
      "At randon state 27, the training accuracy is:- 0.8949084508267352\n",
      "At random state 27, the testing accuracy is:0.9055839757493602\n",
      "\n",
      "\n",
      "At randon state 28, the training accuracy is:- 0.8997566457323917\n",
      "At random state 28, the testing accuracy is:0.882889952375476\n",
      "\n",
      "\n",
      "At randon state 29, the training accuracy is:- 0.8897990754621425\n",
      "At random state 29, the testing accuracy is:0.9121642709962423\n",
      "\n",
      "\n",
      "At randon state 30, the training accuracy is:- 0.8935867104133169\n",
      "At random state 30, the testing accuracy is:0.9070725716744538\n",
      "\n",
      "\n",
      "At randon state 31, the training accuracy is:- 0.8861151331622692\n",
      "At random state 31, the testing accuracy is:0.9274231828872666\n",
      "\n",
      "\n",
      "At randon state 32, the training accuracy is:- 0.9172993061976911\n",
      "At random state 32, the testing accuracy is:0.7769624816211904\n",
      "\n",
      "\n",
      "At randon state 33, the training accuracy is:- 0.896294422055296\n",
      "At random state 33, the testing accuracy is:0.8938166042095906\n",
      "\n",
      "\n",
      "At randon state 34, the training accuracy is:- 0.8970815554113069\n",
      "At random state 34, the testing accuracy is:0.8919648426080482\n",
      "\n",
      "\n",
      "At randon state 35, the training accuracy is:- 0.9149816013369177\n",
      "At random state 35, the testing accuracy is:0.786373587730015\n",
      "\n",
      "\n",
      "At randon state 36, the training accuracy is:- 0.8887390025066806\n",
      "At random state 36, the testing accuracy is:0.9265569630488937\n",
      "\n",
      "\n",
      "At randon state 37, the training accuracy is:- 0.8998734924150504\n",
      "At random state 37, the testing accuracy is:0.8832381464120009\n",
      "\n",
      "\n",
      "At randon state 38, the training accuracy is:- 0.8972914103912516\n",
      "At random state 38, the testing accuracy is:0.8908696135503188\n",
      "\n",
      "\n",
      "At randon state 39, the training accuracy is:- 0.9002556473795614\n",
      "At random state 39, the testing accuracy is:0.8690558832908658\n",
      "\n",
      "\n",
      "At randon state 40, the training accuracy is:- 0.9204058033654225\n",
      "At random state 40, the testing accuracy is:0.7965905680536843\n",
      "\n",
      "\n",
      "At randon state 41, the training accuracy is:- 0.9006927327079468\n",
      "At random state 41, the testing accuracy is:0.8820470614688671\n",
      "\n",
      "\n",
      "At randon state 42, the training accuracy is:- 0.8957553000540606\n",
      "At random state 42, the testing accuracy is:0.8986489151417081\n",
      "\n",
      "\n",
      "At randon state 43, the training accuracy is:- 0.8886405668646471\n",
      "At random state 43, the testing accuracy is:0.9279997802005557\n",
      "\n",
      "\n",
      "At randon state 44, the training accuracy is:- 0.9065906284233083\n",
      "At random state 44, the testing accuracy is:0.8309225032852494\n",
      "\n",
      "\n",
      "At randon state 45, the training accuracy is:- 0.8963875424029035\n",
      "At random state 45, the testing accuracy is:0.8915316806090338\n",
      "\n",
      "\n",
      "At randon state 46, the training accuracy is:- 0.9036235036433334\n",
      "At random state 46, the testing accuracy is:0.8503383755246359\n",
      "\n",
      "\n",
      "At randon state 47, the training accuracy is:- 0.8988386546103042\n",
      "At random state 47, the testing accuracy is:0.8849834045904889\n",
      "\n",
      "\n",
      "At randon state 48, the training accuracy is:- 0.890542166403924\n",
      "At random state 48, the testing accuracy is:0.9189262097926163\n",
      "\n",
      "\n",
      "At randon state 49, the training accuracy is:- 0.913865852180709\n",
      "At random state 49, the testing accuracy is:0.8231216329494812\n",
      "\n",
      "\n",
      "At randon state 50, the training accuracy is:- 0.9013718398317787\n",
      "At random state 50, the testing accuracy is:0.8476464379397719\n",
      "\n",
      "\n",
      "At randon state 51, the training accuracy is:- 0.8936175989328149\n",
      "At random state 51, the testing accuracy is:0.9076546711720634\n",
      "\n",
      "\n",
      "At randon state 52, the training accuracy is:- 0.9018604295382086\n",
      "At random state 52, the testing accuracy is:0.8807089729330375\n",
      "\n",
      "\n",
      "At randon state 53, the training accuracy is:- 0.888857938922339\n",
      "At random state 53, the testing accuracy is:0.9251773581549692\n",
      "\n",
      "\n",
      "At randon state 54, the training accuracy is:- 0.8920887237166686\n",
      "At random state 54, the testing accuracy is:0.9172149618279113\n",
      "\n",
      "\n",
      "At randon state 55, the training accuracy is:- 0.894930160761274\n",
      "At random state 55, the testing accuracy is:0.8978864477773828\n",
      "\n",
      "\n",
      "At randon state 56, the training accuracy is:- 0.8989201587327643\n",
      "At random state 56, the testing accuracy is:0.888224634953456\n",
      "\n",
      "\n",
      "At randon state 57, the training accuracy is:- 0.8825879766148067\n",
      "At random state 57, the testing accuracy is:0.9408099432427623\n",
      "\n",
      "\n",
      "At randon state 58, the training accuracy is:- 0.9127355018257423\n",
      "At random state 58, the testing accuracy is:0.8401442189987403\n",
      "\n",
      "\n",
      "At randon state 59, the training accuracy is:- 0.8893758445368163\n",
      "At random state 59, the testing accuracy is:0.9250247055288898\n",
      "\n",
      "\n",
      "At randon state 60, the training accuracy is:- 0.8929488169971975\n",
      "At random state 60, the testing accuracy is:0.9074416119003319\n",
      "\n",
      "\n",
      "At randon state 61, the training accuracy is:- 0.8995558396715964\n",
      "At random state 61, the testing accuracy is:0.878101642882558\n",
      "\n",
      "\n",
      "At randon state 62, the training accuracy is:- 0.9120188082159291\n",
      "At random state 62, the testing accuracy is:0.8418326614272956\n",
      "\n",
      "\n",
      "At randon state 63, the training accuracy is:- 0.8951057681539462\n",
      "At random state 63, the testing accuracy is:0.9005058624602784\n",
      "\n",
      "\n",
      "At randon state 64, the training accuracy is:- 0.8977795664080803\n",
      "At random state 64, the testing accuracy is:0.8817995595827229\n",
      "\n",
      "\n"
     ]
    },
    {
     "name": "stdout",
     "output_type": "stream",
     "text": [
      "At randon state 65, the training accuracy is:- 0.8969891176837769\n",
      "At random state 65, the testing accuracy is:0.8942556589953752\n",
      "\n",
      "\n",
      "At randon state 66, the training accuracy is:- 0.8992060099166295\n",
      "At random state 66, the testing accuracy is:0.8838295132236418\n",
      "\n",
      "\n",
      "At randon state 67, the training accuracy is:- 0.8995954079489461\n",
      "At random state 67, the testing accuracy is:0.8813062371563375\n",
      "\n",
      "\n",
      "At randon state 68, the training accuracy is:- 0.9004472797727481\n",
      "At random state 68, the testing accuracy is:0.8669862566176891\n",
      "\n",
      "\n",
      "At randon state 69, the training accuracy is:- 0.8870476050134384\n",
      "At random state 69, the testing accuracy is:0.9233095015758521\n",
      "\n",
      "\n",
      "At randon state 70, the training accuracy is:- 0.8862589587247461\n",
      "At random state 70, the testing accuracy is:0.9261899619072469\n",
      "\n",
      "\n",
      "At randon state 71, the training accuracy is:- 0.9170792242159567\n",
      "At random state 71, the testing accuracy is:0.8214330315197064\n",
      "\n",
      "\n",
      "At randon state 72, the training accuracy is:- 0.8939630309765105\n",
      "At random state 72, the testing accuracy is:0.9063814288042916\n",
      "\n",
      "\n",
      "At randon state 73, the training accuracy is:- 0.9081745525874727\n",
      "At random state 73, the testing accuracy is:0.838245651416483\n",
      "\n",
      "\n",
      "At randon state 74, the training accuracy is:- 0.8980451797105264\n",
      "At random state 74, the testing accuracy is:0.8802918295913446\n",
      "\n",
      "\n",
      "At randon state 75, the training accuracy is:- 0.8944097316106918\n",
      "At random state 75, the testing accuracy is:0.9074740863261651\n",
      "\n",
      "\n",
      "At randon state 76, the training accuracy is:- 0.9092071576699313\n",
      "At random state 76, the testing accuracy is:0.7531289748171518\n",
      "\n",
      "\n",
      "At randon state 77, the training accuracy is:- 0.8859821552154192\n",
      "At random state 77, the testing accuracy is:0.937956975915543\n",
      "\n",
      "\n",
      "At randon state 78, the training accuracy is:- 0.8957614044756782\n",
      "At random state 78, the testing accuracy is:0.9027962436962178\n",
      "\n",
      "\n",
      "At randon state 79, the training accuracy is:- 0.8918809749821501\n",
      "At random state 79, the testing accuracy is:0.9039590138288892\n",
      "\n",
      "\n",
      "At randon state 80, the training accuracy is:- 0.9169729628077916\n",
      "At random state 80, the testing accuracy is:0.8002879936768352\n",
      "\n",
      "\n",
      "At randon state 81, the training accuracy is:- 0.9035712487248864\n",
      "At random state 81, the testing accuracy is:0.8609698767855934\n",
      "\n",
      "\n",
      "At randon state 82, the training accuracy is:- 0.9154275126468338\n",
      "At random state 82, the testing accuracy is:0.8013214526563002\n",
      "\n",
      "\n",
      "At randon state 83, the training accuracy is:- 0.8842230653829803\n",
      "At random state 83, the testing accuracy is:0.936533183297641\n",
      "\n",
      "\n",
      "At randon state 84, the training accuracy is:- 0.8954723130793452\n",
      "At random state 84, the testing accuracy is:0.8982625547501828\n",
      "\n",
      "\n",
      "At randon state 85, the training accuracy is:- 0.9086556153894079\n",
      "At random state 85, the testing accuracy is:0.8439750044569613\n",
      "\n",
      "\n",
      "At randon state 86, the training accuracy is:- 0.8941933141983467\n",
      "At random state 86, the testing accuracy is:0.9101136416354886\n",
      "\n",
      "\n",
      "At randon state 87, the training accuracy is:- 0.9120854281966964\n",
      "At random state 87, the testing accuracy is:0.7590318344044371\n",
      "\n",
      "\n",
      "At randon state 88, the training accuracy is:- 0.909607024863585\n",
      "At random state 88, the testing accuracy is:0.8387190488012204\n",
      "\n",
      "\n",
      "At randon state 89, the training accuracy is:- 0.9007733237783739\n",
      "At random state 89, the testing accuracy is:0.8715218402293794\n",
      "\n",
      "\n",
      "At randon state 90, the training accuracy is:- 0.9035155910972225\n",
      "At random state 90, the testing accuracy is:0.8470679956762829\n",
      "\n",
      "\n",
      "At randon state 91, the training accuracy is:- 0.8874503790642361\n",
      "At random state 91, the testing accuracy is:0.9040620243534963\n",
      "\n",
      "\n",
      "At randon state 92, the training accuracy is:- 0.879228484038034\n",
      "At random state 92, the testing accuracy is:0.950983339269277\n",
      "\n",
      "\n",
      "At randon state 93, the training accuracy is:- 0.8934257355566151\n",
      "At random state 93, the testing accuracy is:0.9092789029786972\n",
      "\n",
      "\n",
      "At randon state 94, the training accuracy is:- 0.9084405371218475\n",
      "At random state 94, the testing accuracy is:0.8559756457570239\n",
      "\n",
      "\n",
      "At randon state 95, the training accuracy is:- 0.8935661522674359\n",
      "At random state 95, the testing accuracy is:0.8951483094107863\n",
      "\n",
      "\n",
      "At randon state 96, the training accuracy is:- 0.9038616523881903\n",
      "At random state 96, the testing accuracy is:0.858009872088536\n",
      "\n",
      "\n",
      "At randon state 97, the training accuracy is:- 0.8906962083562392\n",
      "At random state 97, the testing accuracy is:0.907763020464028\n",
      "\n",
      "\n",
      "At randon state 98, the training accuracy is:- 0.8820113423343215\n",
      "At random state 98, the testing accuracy is:0.9393724951506759\n",
      "\n",
      "\n",
      "At randon state 99, the training accuracy is:- 0.8906644266587815\n",
      "At random state 99, the testing accuracy is:0.9201416862699034\n",
      "\n",
      "\n"
     ]
    }
   ],
   "source": [
    "for i in range(0,100):\n",
    "    x_train, x_test, y_train, y_test=train_test_split(x, y, test_size=0.2, random_state=i)\n",
    "    lr.fit(x_train,y_train) \n",
    "    pred_train=lr.predict(x_train) \n",
    "    pred_test=lr.predict(x_test) \n",
    "    print (f\"At randon state {i}, the training accuracy is:- {r2_score(y_train, pred_train)}\") \n",
    "    print (f\"At random state {i}, the testing accuracy is:{r2_score(y_test,pred_test)}\") \n",
    "    print(\"\\n\")"
   ]
  },
  {
   "cell_type": "code",
   "execution_count": 90,
   "metadata": {},
   "outputs": [],
   "source": [
    "x_train, x_test, y_train, y_test=train_test_split(x, y, test_size=0.2, random_state=99)"
   ]
  },
  {
   "cell_type": "code",
   "execution_count": 91,
   "metadata": {},
   "outputs": [
    {
     "data": {
      "text/plain": [
       "LinearRegression()"
      ]
     },
     "execution_count": 91,
     "metadata": {},
     "output_type": "execute_result"
    }
   ],
   "source": [
    "Ir.fit(x_train, y_train)"
   ]
  },
  {
   "cell_type": "code",
   "execution_count": 92,
   "metadata": {},
   "outputs": [],
   "source": [
    "prd_test=lr.predict(x_test)"
   ]
  },
  {
   "cell_type": "code",
   "execution_count": 93,
   "metadata": {},
   "outputs": [
    {
     "name": "stdout",
     "output_type": "stream",
     "text": [
      "0.9201416862699034\n"
     ]
    }
   ],
   "source": [
    "print (r2_score(y_test, pred_test))"
   ]
  },
  {
   "cell_type": "markdown",
   "metadata": {},
   "source": [
    "# Cross-validation of the model"
   ]
  },
  {
   "cell_type": "code",
   "execution_count": 95,
   "metadata": {},
   "outputs": [],
   "source": [
    "Train_accuracy=r2_score(y_train,pred_train) \n",
    "Test_accuracy= r2_score(y_test,pred_test)"
   ]
  },
  {
   "cell_type": "code",
   "execution_count": 99,
   "metadata": {},
   "outputs": [
    {
     "name": "stdout",
     "output_type": "stream",
     "text": [
      " At cross fold 2 the cv score is 0.8557808905096393 and accuracy score for training is 0.8906644266587815 and accuracy score for testing is 0.9201416862699034\n",
      "\n",
      "\n",
      " At cross fold 3 the cv score is 0.8913539823868294 and accuracy score for training is 0.8906644266587815 and accuracy score for testing is 0.9201416862699034\n",
      "\n",
      "\n",
      " At cross fold 4 the cv score is 0.8858779626590163 and accuracy score for training is 0.8906644266587815 and accuracy score for testing is 0.9201416862699034\n",
      "\n",
      "\n",
      " At cross fold 5 the cv score is 0.8842777844741689 and accuracy score for training is 0.8906644266587815 and accuracy score for testing is 0.9201416862699034\n",
      "\n",
      "\n",
      " At cross fold 6 the cv score is 0.8877823078964706 and accuracy score for training is 0.8906644266587815 and accuracy score for testing is 0.9201416862699034\n",
      "\n",
      "\n",
      " At cross fold 7 the cv score is 0.8830284351379021 and accuracy score for training is 0.8906644266587815 and accuracy score for testing is 0.9201416862699034\n",
      "\n",
      "\n",
      " At cross fold 8 the cv score is 0.8795059347365249 and accuracy score for training is 0.8906644266587815 and accuracy score for testing is 0.9201416862699034\n",
      "\n",
      "\n",
      " At cross fold 9 the cv score is 0.879704245100306 and accuracy score for training is 0.8906644266587815 and accuracy score for testing is 0.9201416862699034\n",
      "\n",
      "\n"
     ]
    }
   ],
   "source": [
    "from sklearn.model_selection import cross_val_score \n",
    "for j in range (2,10):\n",
    "    cv_score=cross_val_score (lr , x, y, cv=j)\n",
    "    cv_mean=cv_score.mean()\n",
    "    print(f\" At cross fold {j} the cv score is {cv_mean} and accuracy score for training is {Train_accuracy} and accuracy score for testing is {Test_accuracy}\")  \n",
    "    print(\"\\n\")"
   ]
  },
  {
   "cell_type": "markdown",
   "metadata": {},
   "source": [
    "Since the number of folds don't have such impact on the accuracy and cv_score. So cv=3 is selected."
   ]
  },
  {
   "cell_type": "code",
   "execution_count": null,
   "metadata": {},
   "outputs": [],
   "source": []
  },
  {
   "cell_type": "code",
   "execution_count": 105,
   "metadata": {},
   "outputs": [
    {
     "data": {
      "image/png": "[encoded data removed]",
      "text/plain": [
       "<Figure size 576x432 with 1 Axes>"
      ]
     },
     "metadata": {
      "needs_background": "light"
     },
     "output_type": "display_data"
    }
   ],
   "source": [
    "import matplotlib.pyplot as plt \n",
    "plt. figure(figsize=(8,6)) \n",
    "plt. scatter(x=y_test, y=pred_test, color='r') \n",
    "plt.plot(y_test, y_test, color='b') \n",
    "plt.xlabel('Actual sales', fontsize=14) \n",
    "plt.ylabel('predicted sales', fontsize=14) \n",
    "plt.title('Linear regression', fontsize=18) \n",
    "plt.show()"
   ]
  },
  {
   "cell_type": "markdown",
   "metadata": {},
   "source": [
    "# Regularization"
   ]
  },
  {
   "cell_type": "code",
   "execution_count": 106,
   "metadata": {},
   "outputs": [],
   "source": [
    "from sklearn.model_selection import GridSearchCV \n",
    "from sklearn.model_selection import cross_val_score"
   ]
  },
  {
   "cell_type": "code",
   "execution_count": 112,
   "metadata": {},
   "outputs": [
    {
     "name": "stdout",
     "output_type": "stream",
     "text": [
      "{'alpha': 1, 'random_state': 0}\n"
     ]
    }
   ],
   "source": [
    "from sklearn.linear_model import Lasso \n",
    "parameters = {'alpha' : [.0001, .001, .01, .1, 1, 10], 'random_state' :list (range(0,10))} \n",
    "ls= Lasso() \n",
    "clf= GridSearchCV(ls, parameters) \n",
    "clf.fit(x_train, y_train)\n",
    "print (clf.best_params_)"
   ]
  },
  {
   "cell_type": "code",
   "execution_count": 116,
   "metadata": {},
   "outputs": [
    {
     "data": {
      "text/plain": [
       "0.9202956601818486"
      ]
     },
     "execution_count": 116,
     "metadata": {},
     "output_type": "execute_result"
    }
   ],
   "source": [
    "ls=Lasso(alpha=1, random_state=0) \n",
    "ls.fit(x_train, y_train) \n",
    "ls.score(x_train, y_train) \n",
    "pred_ls=ls.predict(x_test) \n",
    "lss = r2_score(y_test ,pred_ls) \n",
    "lss"
   ]
  },
  {
   "cell_type": "code",
   "execution_count": 119,
   "metadata": {},
   "outputs": [
    {
     "data": {
      "text/plain": [
       "0.8920846196072324"
      ]
     },
     "execution_count": 119,
     "metadata": {},
     "output_type": "execute_result"
    }
   ],
   "source": [
    "cv_score=cross_val_score (ls , x, y,cv=3) \n",
    "cv_mean=cv_score.mean() \n",
    "cv_mean"
   ]
  },
  {
   "cell_type": "markdown",
   "metadata": {},
   "source": [
    "# Ensemble Technique"
   ]
  },
  {
   "cell_type": "code",
   "execution_count": 138,
   "metadata": {},
   "outputs": [
    {
     "name": "stdout",
     "output_type": "stream",
     "text": [
      "{'criterion': 'mae', 'max_features': 'auto'}\n"
     ]
    }
   ],
   "source": [
    "from sklearn.model_selection import GridSearchCV \n",
    "from sklearn.ensemble import RandomForestRegressor \n",
    "\n",
    "\n",
    "parameters = {'criterion':['mse', 'mae'], 'max_features':['auto', 'sqrt','log2']}\n",
    "rf=RandomForestRegressor() \n",
    "clf = GridSearchCV(rf,parameters) \n",
    "clf.fit(x_train,y_train) \n",
    "print (clf.best_params_)\n",
    "              \n",
    "        "
   ]
  },
  {
   "cell_type": "code",
   "execution_count": 143,
   "metadata": {},
   "outputs": [
    {
     "name": "stdout",
     "output_type": "stream",
     "text": [
      "R2 core: 98.17427138069993\n",
      "Cross Val Score: 96.93364427442009\n"
     ]
    }
   ],
   "source": [
    "rf=RandomForestRegressor (criterion=\"mse\", max_features=\"auto\") \n",
    "rf.fit(x_train, y_train) \n",
    "rf.score(x_train,y_train) \n",
    "pred_decision =rf.predict(x_test) \n",
    "\n",
    "rfs = r2_score(y_test, pred_decision) \n",
    "print('R2 core:' , rfs*100 ) \n",
    "     \n",
    "rfscore = cross_val_score( rf,x,y,cv=3) \n",
    "rfc = rfscore.mean() \n",
    "print('Cross Val Score:',rfc* 100)"
   ]
  },
  {
   "cell_type": "code",
   "execution_count": 146,
   "metadata": {},
   "outputs": [],
   "source": [
    "import pickle \n",
    "filename = 'Advertising_project.pkl'\n",
    "pickle.dump(rf, open( filename, 'wb' ))"
   ]
  },
  {
   "cell_type": "markdown",
   "metadata": {},
   "source": [
    "# Conclusion"
   ]
  },
  {
   "cell_type": "code",
   "execution_count": 147,
   "metadata": {},
   "outputs": [
    {
     "name": "stdout",
     "output_type": "stream",
     "text": [
      "0.9817427138069993\n"
     ]
    }
   ],
   "source": [
    "loaded_model = pickle.load(open('Advertising_project.pkl', 'rb')) \n",
    "result = loaded_model.score(x_test, y_test)\n",
    "\n",
    "print(result)"
   ]
  },
  {
   "cell_type": "code",
   "execution_count": 153,
   "metadata": {},
   "outputs": [
    {
     "data": {
      "text/html": [
       "<div>\n",
       "<style scoped>\n",
       "    .dataframe tbody tr th:only-of-type {\n",
       "        vertical-align: middle;\n",
       "    }\n",
       "\n",
       "    .dataframe tbody tr th {\n",
       "        vertical-align: top;\n",
       "    }\n",
       "\n",
       "    .dataframe thead th {\n",
       "        text-align: right;\n",
       "    }\n",
       "</style>\n",
       "<table border=\"1\" class=\"dataframe\">\n",
       "  <thead>\n",
       "    <tr style=\"text-align: right;\">\n",
       "      <th></th>\n",
       "      <th>0</th>\n",
       "      <th>1</th>\n",
       "      <th>2</th>\n",
       "      <th>3</th>\n",
       "      <th>4</th>\n",
       "      <th>5</th>\n",
       "      <th>6</th>\n",
       "      <th>7</th>\n",
       "      <th>8</th>\n",
       "      <th>9</th>\n",
       "      <th>...</th>\n",
       "      <th>30</th>\n",
       "      <th>31</th>\n",
       "      <th>32</th>\n",
       "      <th>33</th>\n",
       "      <th>34</th>\n",
       "      <th>35</th>\n",
       "      <th>36</th>\n",
       "      <th>37</th>\n",
       "      <th>38</th>\n",
       "      <th>39</th>\n",
       "    </tr>\n",
       "  </thead>\n",
       "  <tbody>\n",
       "    <tr>\n",
       "      <th>Predicted</th>\n",
       "      <td>11.735</td>\n",
       "      <td>9.108</td>\n",
       "      <td>10.129</td>\n",
       "      <td>8.208</td>\n",
       "      <td>6.817</td>\n",
       "      <td>22.571</td>\n",
       "      <td>12.199</td>\n",
       "      <td>24.308</td>\n",
       "      <td>6.209</td>\n",
       "      <td>18.638</td>\n",
       "      <td>...</td>\n",
       "      <td>11.341</td>\n",
       "      <td>24.298</td>\n",
       "      <td>18.34</td>\n",
       "      <td>12.132</td>\n",
       "      <td>10.669</td>\n",
       "      <td>14.967</td>\n",
       "      <td>13.117</td>\n",
       "      <td>16.939</td>\n",
       "      <td>11.884</td>\n",
       "      <td>8.666</td>\n",
       "    </tr>\n",
       "    <tr>\n",
       "      <th>orginal</th>\n",
       "      <td>11.735</td>\n",
       "      <td>9.108</td>\n",
       "      <td>10.129</td>\n",
       "      <td>8.208</td>\n",
       "      <td>6.817</td>\n",
       "      <td>22.571</td>\n",
       "      <td>12.199</td>\n",
       "      <td>24.308</td>\n",
       "      <td>6.209</td>\n",
       "      <td>18.638</td>\n",
       "      <td>...</td>\n",
       "      <td>11.341</td>\n",
       "      <td>24.298</td>\n",
       "      <td>18.34</td>\n",
       "      <td>12.132</td>\n",
       "      <td>10.669</td>\n",
       "      <td>14.967</td>\n",
       "      <td>13.117</td>\n",
       "      <td>16.939</td>\n",
       "      <td>11.884</td>\n",
       "      <td>8.666</td>\n",
       "    </tr>\n",
       "  </tbody>\n",
       "</table>\n",
       "<p>2 rows × 40 columns</p>\n",
       "</div>"
      ],
      "text/plain": [
       "               0      1       2      3      4       5       6       7      8   \\\n",
       "Predicted  11.735  9.108  10.129  8.208  6.817  22.571  12.199  24.308  6.209   \n",
       "orginal    11.735  9.108  10.129  8.208  6.817  22.571  12.199  24.308  6.209   \n",
       "\n",
       "               9   ...      30      31     32      33      34      35      36  \\\n",
       "Predicted  18.638  ...  11.341  24.298  18.34  12.132  10.669  14.967  13.117   \n",
       "orginal    18.638  ...  11.341  24.298  18.34  12.132  10.669  14.967  13.117   \n",
       "\n",
       "               37      38     39  \n",
       "Predicted  16.939  11.884  8.666  \n",
       "orginal    16.939  11.884  8.666  \n",
       "\n",
       "[2 rows x 40 columns]"
      ]
     },
     "execution_count": 153,
     "metadata": {},
     "output_type": "execute_result"
    }
   ],
   "source": [
    "conclusion=pd. DataFrame([loaded_model.predict(x_test)[:], pred_decision[:]], index=[\"Predicted\", \"orginal\"])\n",
    "\n",
    "conclusion"
   ]
  },
  {
   "cell_type": "code",
   "execution_count": null,
   "metadata": {},
   "outputs": [],
   "source": []
  }
 ],
 "metadata": {
  "kernelspec": {
   "display_name": "Python 3",
   "language": "python",
   "name": "python3"
  },
  "language_info": {
   "codemirror_mode": {
    "name": "ipython",
    "version": 3
   },
   "file_extension": ".py",
   "mimetype": "text/x-python",
   "name": "python",
   "nbconvert_exporter": "python",
   "pygments_lexer": "ipython3",
   "version": "3.8.3"
  }
 },
 "nbformat": 4,
 "nbformat_minor": 4
}
