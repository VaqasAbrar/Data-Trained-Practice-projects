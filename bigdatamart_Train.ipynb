{
 "cells": [
  {
   "cell_type": "code",
   "execution_count": 3,
   "metadata": {},
   "outputs": [],
   "source": [
    "import pandas as pd\n",
    "import numpy as np\n",
    "from sklearn.model_selection import train_test_split\n",
    "import warnings\n",
    "warnings.filterwarnings('ignore')"
   ]
  },
  {
   "cell_type": "code",
   "execution_count": 4,
   "metadata": {},
   "outputs": [
    {
     "data": {
      "text/html": [
       "<div>\n",
       "<style scoped>\n",
       "    .dataframe tbody tr th:only-of-type {\n",
       "        vertical-align: middle;\n",
       "    }\n",
       "\n",
       "    .dataframe tbody tr th {\n",
       "        vertical-align: top;\n",
       "    }\n",
       "\n",
       "    .dataframe thead th {\n",
       "        text-align: right;\n",
       "    }\n",
       "</style>\n",
       "<table border=\"1\" class=\"dataframe\">\n",
       "  <thead>\n",
       "    <tr style=\"text-align: right;\">\n",
       "      <th></th>\n",
       "      <th>Item_Identifier</th>\n",
       "      <th>Item_Weight</th>\n",
       "      <th>Item_Fat_Content</th>\n",
       "      <th>Item_Visibility</th>\n",
       "      <th>Item_Type</th>\n",
       "      <th>Item_MRP</th>\n",
       "      <th>Outlet_Identifier</th>\n",
       "      <th>Outlet_Establishment_Year</th>\n",
       "      <th>Outlet_Size</th>\n",
       "      <th>Outlet_Location_Type</th>\n",
       "      <th>Outlet_Type</th>\n",
       "      <th>Item_Outlet_Sales</th>\n",
       "    </tr>\n",
       "  </thead>\n",
       "  <tbody>\n",
       "    <tr>\n",
       "      <th>0</th>\n",
       "      <td>FDA15</td>\n",
       "      <td>9.300</td>\n",
       "      <td>Low Fat</td>\n",
       "      <td>0.016047</td>\n",
       "      <td>Dairy</td>\n",
       "      <td>249.8092</td>\n",
       "      <td>OUT049</td>\n",
       "      <td>1999</td>\n",
       "      <td>Medium</td>\n",
       "      <td>Tier 1</td>\n",
       "      <td>Supermarket Type1</td>\n",
       "      <td>3735.1380</td>\n",
       "    </tr>\n",
       "    <tr>\n",
       "      <th>1</th>\n",
       "      <td>DRC01</td>\n",
       "      <td>5.920</td>\n",
       "      <td>Regular</td>\n",
       "      <td>0.019278</td>\n",
       "      <td>Soft Drinks</td>\n",
       "      <td>48.2692</td>\n",
       "      <td>OUT018</td>\n",
       "      <td>2009</td>\n",
       "      <td>Medium</td>\n",
       "      <td>Tier 3</td>\n",
       "      <td>Supermarket Type2</td>\n",
       "      <td>443.4228</td>\n",
       "    </tr>\n",
       "    <tr>\n",
       "      <th>2</th>\n",
       "      <td>FDN15</td>\n",
       "      <td>17.500</td>\n",
       "      <td>Low Fat</td>\n",
       "      <td>0.016760</td>\n",
       "      <td>Meat</td>\n",
       "      <td>141.6180</td>\n",
       "      <td>OUT049</td>\n",
       "      <td>1999</td>\n",
       "      <td>Medium</td>\n",
       "      <td>Tier 1</td>\n",
       "      <td>Supermarket Type1</td>\n",
       "      <td>2097.2700</td>\n",
       "    </tr>\n",
       "    <tr>\n",
       "      <th>3</th>\n",
       "      <td>FDX07</td>\n",
       "      <td>19.200</td>\n",
       "      <td>Regular</td>\n",
       "      <td>0.000000</td>\n",
       "      <td>Fruits and Vegetables</td>\n",
       "      <td>182.0950</td>\n",
       "      <td>OUT010</td>\n",
       "      <td>1998</td>\n",
       "      <td>NaN</td>\n",
       "      <td>Tier 3</td>\n",
       "      <td>Grocery Store</td>\n",
       "      <td>732.3800</td>\n",
       "    </tr>\n",
       "    <tr>\n",
       "      <th>4</th>\n",
       "      <td>NCD19</td>\n",
       "      <td>8.930</td>\n",
       "      <td>Low Fat</td>\n",
       "      <td>0.000000</td>\n",
       "      <td>Household</td>\n",
       "      <td>53.8614</td>\n",
       "      <td>OUT013</td>\n",
       "      <td>1987</td>\n",
       "      <td>High</td>\n",
       "      <td>Tier 3</td>\n",
       "      <td>Supermarket Type1</td>\n",
       "      <td>994.7052</td>\n",
       "    </tr>\n",
       "    <tr>\n",
       "      <th>...</th>\n",
       "      <td>...</td>\n",
       "      <td>...</td>\n",
       "      <td>...</td>\n",
       "      <td>...</td>\n",
       "      <td>...</td>\n",
       "      <td>...</td>\n",
       "      <td>...</td>\n",
       "      <td>...</td>\n",
       "      <td>...</td>\n",
       "      <td>...</td>\n",
       "      <td>...</td>\n",
       "      <td>...</td>\n",
       "    </tr>\n",
       "    <tr>\n",
       "      <th>8518</th>\n",
       "      <td>FDF22</td>\n",
       "      <td>6.865</td>\n",
       "      <td>Low Fat</td>\n",
       "      <td>0.056783</td>\n",
       "      <td>Snack Foods</td>\n",
       "      <td>214.5218</td>\n",
       "      <td>OUT013</td>\n",
       "      <td>1987</td>\n",
       "      <td>High</td>\n",
       "      <td>Tier 3</td>\n",
       "      <td>Supermarket Type1</td>\n",
       "      <td>2778.3834</td>\n",
       "    </tr>\n",
       "    <tr>\n",
       "      <th>8519</th>\n",
       "      <td>FDS36</td>\n",
       "      <td>8.380</td>\n",
       "      <td>Regular</td>\n",
       "      <td>0.046982</td>\n",
       "      <td>Baking Goods</td>\n",
       "      <td>108.1570</td>\n",
       "      <td>OUT045</td>\n",
       "      <td>2002</td>\n",
       "      <td>NaN</td>\n",
       "      <td>Tier 2</td>\n",
       "      <td>Supermarket Type1</td>\n",
       "      <td>549.2850</td>\n",
       "    </tr>\n",
       "    <tr>\n",
       "      <th>8520</th>\n",
       "      <td>NCJ29</td>\n",
       "      <td>10.600</td>\n",
       "      <td>Low Fat</td>\n",
       "      <td>0.035186</td>\n",
       "      <td>Health and Hygiene</td>\n",
       "      <td>85.1224</td>\n",
       "      <td>OUT035</td>\n",
       "      <td>2004</td>\n",
       "      <td>Small</td>\n",
       "      <td>Tier 2</td>\n",
       "      <td>Supermarket Type1</td>\n",
       "      <td>1193.1136</td>\n",
       "    </tr>\n",
       "    <tr>\n",
       "      <th>8521</th>\n",
       "      <td>FDN46</td>\n",
       "      <td>7.210</td>\n",
       "      <td>Regular</td>\n",
       "      <td>0.145221</td>\n",
       "      <td>Snack Foods</td>\n",
       "      <td>103.1332</td>\n",
       "      <td>OUT018</td>\n",
       "      <td>2009</td>\n",
       "      <td>Medium</td>\n",
       "      <td>Tier 3</td>\n",
       "      <td>Supermarket Type2</td>\n",
       "      <td>1845.5976</td>\n",
       "    </tr>\n",
       "    <tr>\n",
       "      <th>8522</th>\n",
       "      <td>DRG01</td>\n",
       "      <td>14.800</td>\n",
       "      <td>Low Fat</td>\n",
       "      <td>0.044878</td>\n",
       "      <td>Soft Drinks</td>\n",
       "      <td>75.4670</td>\n",
       "      <td>OUT046</td>\n",
       "      <td>1997</td>\n",
       "      <td>Small</td>\n",
       "      <td>Tier 1</td>\n",
       "      <td>Supermarket Type1</td>\n",
       "      <td>765.6700</td>\n",
       "    </tr>\n",
       "  </tbody>\n",
       "</table>\n",
       "<p>8523 rows × 12 columns</p>\n",
       "</div>"
      ],
      "text/plain": [
       "     Item_Identifier  Item_Weight Item_Fat_Content  Item_Visibility  \\\n",
       "0              FDA15        9.300          Low Fat         0.016047   \n",
       "1              DRC01        5.920          Regular         0.019278   \n",
       "2              FDN15       17.500          Low Fat         0.016760   \n",
       "3              FDX07       19.200          Regular         0.000000   \n",
       "4              NCD19        8.930          Low Fat         0.000000   \n",
       "...              ...          ...              ...              ...   \n",
       "8518           FDF22        6.865          Low Fat         0.056783   \n",
       "8519           FDS36        8.380          Regular         0.046982   \n",
       "8520           NCJ29       10.600          Low Fat         0.035186   \n",
       "8521           FDN46        7.210          Regular         0.145221   \n",
       "8522           DRG01       14.800          Low Fat         0.044878   \n",
       "\n",
       "                  Item_Type  Item_MRP Outlet_Identifier  \\\n",
       "0                     Dairy  249.8092            OUT049   \n",
       "1               Soft Drinks   48.2692            OUT018   \n",
       "2                      Meat  141.6180            OUT049   \n",
       "3     Fruits and Vegetables  182.0950            OUT010   \n",
       "4                 Household   53.8614            OUT013   \n",
       "...                     ...       ...               ...   \n",
       "8518            Snack Foods  214.5218            OUT013   \n",
       "8519           Baking Goods  108.1570            OUT045   \n",
       "8520     Health and Hygiene   85.1224            OUT035   \n",
       "8521            Snack Foods  103.1332            OUT018   \n",
       "8522            Soft Drinks   75.4670            OUT046   \n",
       "\n",
       "      Outlet_Establishment_Year Outlet_Size Outlet_Location_Type  \\\n",
       "0                          1999      Medium               Tier 1   \n",
       "1                          2009      Medium               Tier 3   \n",
       "2                          1999      Medium               Tier 1   \n",
       "3                          1998         NaN               Tier 3   \n",
       "4                          1987        High               Tier 3   \n",
       "...                         ...         ...                  ...   \n",
       "8518                       1987        High               Tier 3   \n",
       "8519                       2002         NaN               Tier 2   \n",
       "8520                       2004       Small               Tier 2   \n",
       "8521                       2009      Medium               Tier 3   \n",
       "8522                       1997       Small               Tier 1   \n",
       "\n",
       "            Outlet_Type  Item_Outlet_Sales  \n",
       "0     Supermarket Type1          3735.1380  \n",
       "1     Supermarket Type2           443.4228  \n",
       "2     Supermarket Type1          2097.2700  \n",
       "3         Grocery Store           732.3800  \n",
       "4     Supermarket Type1           994.7052  \n",
       "...                 ...                ...  \n",
       "8518  Supermarket Type1          2778.3834  \n",
       "8519  Supermarket Type1           549.2850  \n",
       "8520  Supermarket Type1          1193.1136  \n",
       "8521  Supermarket Type2          1845.5976  \n",
       "8522  Supermarket Type1           765.6700  \n",
       "\n",
       "[8523 rows x 12 columns]"
      ]
     },
     "execution_count": 4,
     "metadata": {},
     "output_type": "execute_result"
    }
   ],
   "source": [
    "df=pd.read_csv('bigdatamart_Train.csv')\n",
    "df"
   ]
  },
  {
   "cell_type": "code",
   "execution_count": 5,
   "metadata": {},
   "outputs": [
    {
     "data": {
      "text/plain": [
       "(8523, 12)"
      ]
     },
     "execution_count": 5,
     "metadata": {},
     "output_type": "execute_result"
    }
   ],
   "source": [
    "df.shape"
   ]
  },
  {
   "cell_type": "code",
   "execution_count": 6,
   "metadata": {},
   "outputs": [
    {
     "data": {
      "text/plain": [
       "Item_Identifier               object\n",
       "Item_Weight                  float64\n",
       "Item_Fat_Content              object\n",
       "Item_Visibility              float64\n",
       "Item_Type                     object\n",
       "Item_MRP                     float64\n",
       "Outlet_Identifier             object\n",
       "Outlet_Establishment_Year      int64\n",
       "Outlet_Size                   object\n",
       "Outlet_Location_Type          object\n",
       "Outlet_Type                   object\n",
       "Item_Outlet_Sales            float64\n",
       "dtype: object"
      ]
     },
     "execution_count": 6,
     "metadata": {},
     "output_type": "execute_result"
    }
   ],
   "source": [
    "df.dtypes"
   ]
  },
  {
   "cell_type": "code",
   "execution_count": 7,
   "metadata": {},
   "outputs": [
    {
     "data": {
      "text/plain": [
       "Item_Identifier                 0\n",
       "Item_Weight                  1463\n",
       "Item_Fat_Content                0\n",
       "Item_Visibility                 0\n",
       "Item_Type                       0\n",
       "Item_MRP                        0\n",
       "Outlet_Identifier               0\n",
       "Outlet_Establishment_Year       0\n",
       "Outlet_Size                  2410\n",
       "Outlet_Location_Type            0\n",
       "Outlet_Type                     0\n",
       "Item_Outlet_Sales               0\n",
       "dtype: int64"
      ]
     },
     "execution_count": 7,
     "metadata": {},
     "output_type": "execute_result"
    }
   ],
   "source": [
    "df.isnull().sum()"
   ]
  },
  {
   "cell_type": "code",
   "execution_count": 8,
   "metadata": {},
   "outputs": [
    {
     "data": {
      "image/png": "[encoded data removed]",
      "text/plain": [
       "<Figure size 432x288 with 2 Axes>"
      ]
     },
     "metadata": {
      "needs_background": "light"
     },
     "output_type": "display_data"
    }
   ],
   "source": [
    "import seaborn as sns\n",
    "import matplotlib.pyplot as plt\n",
    "sns.heatmap(df.isnull())\n",
    "plt.title('Null Values')\n",
    "plt.show()"
   ]
  },
  {
   "cell_type": "markdown",
   "metadata": {},
   "source": [
    "We can see certain null values in 2 columns."
   ]
  },
  {
   "cell_type": "code",
   "execution_count": 9,
   "metadata": {},
   "outputs": [],
   "source": [
    "df['Item_Weight']=df['Item_Weight'].fillna(np.mean(df['Item_Weight']))\n",
    "df['Outlet_Size']=df['Outlet_Size'].fillna(' ')"
   ]
  },
  {
   "cell_type": "code",
   "execution_count": 10,
   "metadata": {},
   "outputs": [
    {
     "data": {
      "text/plain": [
       "Item_Identifier              0\n",
       "Item_Weight                  0\n",
       "Item_Fat_Content             0\n",
       "Item_Visibility              0\n",
       "Item_Type                    0\n",
       "Item_MRP                     0\n",
       "Outlet_Identifier            0\n",
       "Outlet_Establishment_Year    0\n",
       "Outlet_Size                  0\n",
       "Outlet_Location_Type         0\n",
       "Outlet_Type                  0\n",
       "Item_Outlet_Sales            0\n",
       "dtype: int64"
      ]
     },
     "execution_count": 10,
     "metadata": {},
     "output_type": "execute_result"
    }
   ],
   "source": [
    "df.isnull().sum()"
   ]
  },
  {
   "cell_type": "markdown",
   "metadata": {},
   "source": [
    "There are no null values present anymore."
   ]
  },
  {
   "cell_type": "markdown",
   "metadata": {},
   "source": [
    "# Data Visualisation"
   ]
  },
  {
   "cell_type": "code",
   "execution_count": 11,
   "metadata": {},
   "outputs": [
    {
     "name": "stdout",
     "output_type": "stream",
     "text": [
      "8523\n"
     ]
    },
    {
     "data": {
      "image/png": "[encoded data removed]",
      "text/plain": [
       "<Figure size 432x288 with 1 Axes>"
      ]
     },
     "metadata": {
      "needs_background": "light"
     },
     "output_type": "display_data"
    }
   ],
   "source": [
    "ax=sns.countplot(x='Item_Fat_Content',data=df)\n",
    "print(df['Item_Fat_Content'].count())"
   ]
  },
  {
   "cell_type": "code",
   "execution_count": 12,
   "metadata": {},
   "outputs": [
    {
     "name": "stdout",
     "output_type": "stream",
     "text": [
      "8523\n"
     ]
    },
    {
     "data": {
      "image/png": "[encoded data removed]",
      "text/plain": [
       "<Figure size 432x288 with 1 Axes>"
      ]
     },
     "metadata": {
      "needs_background": "light"
     },
     "output_type": "display_data"
    }
   ],
   "source": [
    "ax=sns.countplot(x='Outlet_Size',data=df)\n",
    "print(df['Outlet_Size'].count())"
   ]
  },
  {
   "cell_type": "code",
   "execution_count": 13,
   "metadata": {},
   "outputs": [
    {
     "name": "stdout",
     "output_type": "stream",
     "text": [
      "8523\n"
     ]
    },
    {
     "data": {
      "image/png": "[encoded data removed]",
      "text/plain": [
       "<Figure size 432x288 with 1 Axes>"
      ]
     },
     "metadata": {
      "needs_background": "light"
     },
     "output_type": "display_data"
    }
   ],
   "source": [
    "ax=sns.countplot(x='Outlet_Location_Type',data=df)\n",
    "print(df['Outlet_Location_Type'].count())"
   ]
  },
  {
   "cell_type": "code",
   "execution_count": 14,
   "metadata": {},
   "outputs": [
    {
     "name": "stdout",
     "output_type": "stream",
     "text": [
      "8523\n"
     ]
    },
    {
     "data": {
      "image/png": "[encoded data removed]",
      "text/plain": [
       "<Figure size 432x288 with 1 Axes>"
      ]
     },
     "metadata": {
      "needs_background": "light"
     },
     "output_type": "display_data"
    }
   ],
   "source": [
    "ax=sns.countplot(x='Outlet_Type',data=df)\n",
    "print(df['Outlet_Type'].count())"
   ]
  },
  {
   "cell_type": "code",
   "execution_count": 15,
   "metadata": {},
   "outputs": [
    {
     "name": "stdout",
     "output_type": "stream",
     "text": [
      "8523\n"
     ]
    },
    {
     "data": {
      "image/png": "[encoded data removed]",
      "text/plain": [
       "<Figure size 432x288 with 1 Axes>"
      ]
     },
     "metadata": {
      "needs_background": "light"
     },
     "output_type": "display_data"
    }
   ],
   "source": [
    "df['Item_Weight'].hist(grid=True)\n",
    "plt.title('Item_Weight')\n",
    "print(df['Item_Weight'].count())\n",
    "plt.show()"
   ]
  },
  {
   "cell_type": "code",
   "execution_count": 16,
   "metadata": {},
   "outputs": [
    {
     "name": "stdout",
     "output_type": "stream",
     "text": [
      "8523\n"
     ]
    },
    {
     "data": {
      "image/png": "[encoded data removed]",
      "text/plain": [
       "<Figure size 432x288 with 1 Axes>"
      ]
     },
     "metadata": {
      "needs_background": "light"
     },
     "output_type": "display_data"
    }
   ],
   "source": [
    "df['Item_MRP'].hist(grid=True)\n",
    "plt.title('Item_MRP')\n",
    "print(df['Item_MRP'].count())\n",
    "plt.show()"
   ]
  },
  {
   "cell_type": "code",
   "execution_count": 17,
   "metadata": {},
   "outputs": [
    {
     "data": {
      "text/plain": [
       "<seaborn.axisgrid.FacetGrid at 0x18e49a0a970>"
      ]
     },
     "execution_count": 17,
     "metadata": {},
     "output_type": "execute_result"
    },
    {
     "data": {
      "image/png": "[encoded data removed]",
      "text/plain": [
       "<Figure size 360x360 with 1 Axes>"
      ]
     },
     "metadata": {
      "needs_background": "light"
     },
     "output_type": "display_data"
    }
   ],
   "source": [
    "sns.catplot(x='Outlet_Type',y='Item_Outlet_Sales', data=df)"
   ]
  },
  {
   "cell_type": "code",
   "execution_count": 18,
   "metadata": {},
   "outputs": [
    {
     "data": {
      "image/png": "[encoded data removed]",
      "text/plain": [
       "<Figure size 432x288 with 2 Axes>"
      ]
     },
     "metadata": {
      "needs_background": "light"
     },
     "output_type": "display_data"
    }
   ],
   "source": [
    "sns.heatmap(df.corr(), annot=True)\n",
    "plt.title('Correlation Matrix')\n",
    "plt.show()"
   ]
  },
  {
   "cell_type": "markdown",
   "metadata": {},
   "source": [
    "Our target \"Item_Outlet_Sales\" has highest correlation with 'Item_MRP'.  "
   ]
  },
  {
   "cell_type": "code",
   "execution_count": 19,
   "metadata": {},
   "outputs": [
    {
     "data": {
      "text/plain": [
       "Item_Outlet_Sales            1.000000\n",
       "Item_MRP                     0.567574\n",
       "Item_Weight                  0.011550\n",
       "Outlet_Establishment_Year   -0.049135\n",
       "Item_Visibility             -0.128625\n",
       "Name: Item_Outlet_Sales, dtype: float64"
      ]
     },
     "execution_count": 19,
     "metadata": {},
     "output_type": "execute_result"
    }
   ],
   "source": [
    "corr_matrix=df.corr()\n",
    "corr_matrix['Item_Outlet_Sales'].sort_values(ascending=False)"
   ]
  },
  {
   "cell_type": "markdown",
   "metadata": {},
   "source": [
    "# Encoding the data"
   ]
  },
  {
   "cell_type": "code",
   "execution_count": 20,
   "metadata": {},
   "outputs": [],
   "source": [
    "from sklearn.preprocessing import OrdinalEncoder\n",
    "enc=OrdinalEncoder()\n",
    "\n",
    "for i in df.columns:\n",
    "    if df[i].dtypes==\"object\":\n",
    "        df[i]=enc.fit_transform(df[i].values.reshape(-1,1))"
   ]
  },
  {
   "cell_type": "code",
   "execution_count": 21,
   "metadata": {},
   "outputs": [
    {
     "data": {
      "text/html": [
       "<div>\n",
       "<style scoped>\n",
       "    .dataframe tbody tr th:only-of-type {\n",
       "        vertical-align: middle;\n",
       "    }\n",
       "\n",
       "    .dataframe tbody tr th {\n",
       "        vertical-align: top;\n",
       "    }\n",
       "\n",
       "    .dataframe thead th {\n",
       "        text-align: right;\n",
       "    }\n",
       "</style>\n",
       "<table border=\"1\" class=\"dataframe\">\n",
       "  <thead>\n",
       "    <tr style=\"text-align: right;\">\n",
       "      <th></th>\n",
       "      <th>Item_Identifier</th>\n",
       "      <th>Item_Weight</th>\n",
       "      <th>Item_Fat_Content</th>\n",
       "      <th>Item_Visibility</th>\n",
       "      <th>Item_Type</th>\n",
       "      <th>Item_MRP</th>\n",
       "      <th>Outlet_Identifier</th>\n",
       "      <th>Outlet_Establishment_Year</th>\n",
       "      <th>Outlet_Size</th>\n",
       "      <th>Outlet_Location_Type</th>\n",
       "      <th>Outlet_Type</th>\n",
       "      <th>Item_Outlet_Sales</th>\n",
       "    </tr>\n",
       "  </thead>\n",
       "  <tbody>\n",
       "    <tr>\n",
       "      <th>0</th>\n",
       "      <td>156.0</td>\n",
       "      <td>9.300</td>\n",
       "      <td>1.0</td>\n",
       "      <td>0.016047</td>\n",
       "      <td>4.0</td>\n",
       "      <td>249.8092</td>\n",
       "      <td>9.0</td>\n",
       "      <td>1999</td>\n",
       "      <td>2.0</td>\n",
       "      <td>0.0</td>\n",
       "      <td>1.0</td>\n",
       "      <td>3735.1380</td>\n",
       "    </tr>\n",
       "    <tr>\n",
       "      <th>1</th>\n",
       "      <td>8.0</td>\n",
       "      <td>5.920</td>\n",
       "      <td>2.0</td>\n",
       "      <td>0.019278</td>\n",
       "      <td>14.0</td>\n",
       "      <td>48.2692</td>\n",
       "      <td>3.0</td>\n",
       "      <td>2009</td>\n",
       "      <td>2.0</td>\n",
       "      <td>2.0</td>\n",
       "      <td>2.0</td>\n",
       "      <td>443.4228</td>\n",
       "    </tr>\n",
       "    <tr>\n",
       "      <th>2</th>\n",
       "      <td>662.0</td>\n",
       "      <td>17.500</td>\n",
       "      <td>1.0</td>\n",
       "      <td>0.016760</td>\n",
       "      <td>10.0</td>\n",
       "      <td>141.6180</td>\n",
       "      <td>9.0</td>\n",
       "      <td>1999</td>\n",
       "      <td>2.0</td>\n",
       "      <td>0.0</td>\n",
       "      <td>1.0</td>\n",
       "      <td>2097.2700</td>\n",
       "    </tr>\n",
       "    <tr>\n",
       "      <th>3</th>\n",
       "      <td>1121.0</td>\n",
       "      <td>19.200</td>\n",
       "      <td>2.0</td>\n",
       "      <td>0.000000</td>\n",
       "      <td>6.0</td>\n",
       "      <td>182.0950</td>\n",
       "      <td>0.0</td>\n",
       "      <td>1998</td>\n",
       "      <td>0.0</td>\n",
       "      <td>2.0</td>\n",
       "      <td>0.0</td>\n",
       "      <td>732.3800</td>\n",
       "    </tr>\n",
       "    <tr>\n",
       "      <th>4</th>\n",
       "      <td>1297.0</td>\n",
       "      <td>8.930</td>\n",
       "      <td>1.0</td>\n",
       "      <td>0.000000</td>\n",
       "      <td>9.0</td>\n",
       "      <td>53.8614</td>\n",
       "      <td>1.0</td>\n",
       "      <td>1987</td>\n",
       "      <td>1.0</td>\n",
       "      <td>2.0</td>\n",
       "      <td>1.0</td>\n",
       "      <td>994.7052</td>\n",
       "    </tr>\n",
       "    <tr>\n",
       "      <th>...</th>\n",
       "      <td>...</td>\n",
       "      <td>...</td>\n",
       "      <td>...</td>\n",
       "      <td>...</td>\n",
       "      <td>...</td>\n",
       "      <td>...</td>\n",
       "      <td>...</td>\n",
       "      <td>...</td>\n",
       "      <td>...</td>\n",
       "      <td>...</td>\n",
       "      <td>...</td>\n",
       "      <td>...</td>\n",
       "    </tr>\n",
       "    <tr>\n",
       "      <th>8518</th>\n",
       "      <td>370.0</td>\n",
       "      <td>6.865</td>\n",
       "      <td>1.0</td>\n",
       "      <td>0.056783</td>\n",
       "      <td>13.0</td>\n",
       "      <td>214.5218</td>\n",
       "      <td>1.0</td>\n",
       "      <td>1987</td>\n",
       "      <td>1.0</td>\n",
       "      <td>2.0</td>\n",
       "      <td>1.0</td>\n",
       "      <td>2778.3834</td>\n",
       "    </tr>\n",
       "    <tr>\n",
       "      <th>8519</th>\n",
       "      <td>897.0</td>\n",
       "      <td>8.380</td>\n",
       "      <td>2.0</td>\n",
       "      <td>0.046982</td>\n",
       "      <td>0.0</td>\n",
       "      <td>108.1570</td>\n",
       "      <td>7.0</td>\n",
       "      <td>2002</td>\n",
       "      <td>0.0</td>\n",
       "      <td>1.0</td>\n",
       "      <td>1.0</td>\n",
       "      <td>549.2850</td>\n",
       "    </tr>\n",
       "    <tr>\n",
       "      <th>8520</th>\n",
       "      <td>1357.0</td>\n",
       "      <td>10.600</td>\n",
       "      <td>1.0</td>\n",
       "      <td>0.035186</td>\n",
       "      <td>8.0</td>\n",
       "      <td>85.1224</td>\n",
       "      <td>6.0</td>\n",
       "      <td>2004</td>\n",
       "      <td>3.0</td>\n",
       "      <td>1.0</td>\n",
       "      <td>1.0</td>\n",
       "      <td>1193.1136</td>\n",
       "    </tr>\n",
       "    <tr>\n",
       "      <th>8521</th>\n",
       "      <td>681.0</td>\n",
       "      <td>7.210</td>\n",
       "      <td>2.0</td>\n",
       "      <td>0.145221</td>\n",
       "      <td>13.0</td>\n",
       "      <td>103.1332</td>\n",
       "      <td>3.0</td>\n",
       "      <td>2009</td>\n",
       "      <td>2.0</td>\n",
       "      <td>2.0</td>\n",
       "      <td>2.0</td>\n",
       "      <td>1845.5976</td>\n",
       "    </tr>\n",
       "    <tr>\n",
       "      <th>8522</th>\n",
       "      <td>50.0</td>\n",
       "      <td>14.800</td>\n",
       "      <td>1.0</td>\n",
       "      <td>0.044878</td>\n",
       "      <td>14.0</td>\n",
       "      <td>75.4670</td>\n",
       "      <td>8.0</td>\n",
       "      <td>1997</td>\n",
       "      <td>3.0</td>\n",
       "      <td>0.0</td>\n",
       "      <td>1.0</td>\n",
       "      <td>765.6700</td>\n",
       "    </tr>\n",
       "  </tbody>\n",
       "</table>\n",
       "<p>8523 rows × 12 columns</p>\n",
       "</div>"
      ],
      "text/plain": [
       "      Item_Identifier  Item_Weight  Item_Fat_Content  Item_Visibility  \\\n",
       "0               156.0        9.300               1.0         0.016047   \n",
       "1                 8.0        5.920               2.0         0.019278   \n",
       "2               662.0       17.500               1.0         0.016760   \n",
       "3              1121.0       19.200               2.0         0.000000   \n",
       "4              1297.0        8.930               1.0         0.000000   \n",
       "...               ...          ...               ...              ...   \n",
       "8518            370.0        6.865               1.0         0.056783   \n",
       "8519            897.0        8.380               2.0         0.046982   \n",
       "8520           1357.0       10.600               1.0         0.035186   \n",
       "8521            681.0        7.210               2.0         0.145221   \n",
       "8522             50.0       14.800               1.0         0.044878   \n",
       "\n",
       "      Item_Type  Item_MRP  Outlet_Identifier  Outlet_Establishment_Year  \\\n",
       "0           4.0  249.8092                9.0                       1999   \n",
       "1          14.0   48.2692                3.0                       2009   \n",
       "2          10.0  141.6180                9.0                       1999   \n",
       "3           6.0  182.0950                0.0                       1998   \n",
       "4           9.0   53.8614                1.0                       1987   \n",
       "...         ...       ...                ...                        ...   \n",
       "8518       13.0  214.5218                1.0                       1987   \n",
       "8519        0.0  108.1570                7.0                       2002   \n",
       "8520        8.0   85.1224                6.0                       2004   \n",
       "8521       13.0  103.1332                3.0                       2009   \n",
       "8522       14.0   75.4670                8.0                       1997   \n",
       "\n",
       "      Outlet_Size  Outlet_Location_Type  Outlet_Type  Item_Outlet_Sales  \n",
       "0             2.0                   0.0          1.0          3735.1380  \n",
       "1             2.0                   2.0          2.0           443.4228  \n",
       "2             2.0                   0.0          1.0          2097.2700  \n",
       "3             0.0                   2.0          0.0           732.3800  \n",
       "4             1.0                   2.0          1.0           994.7052  \n",
       "...           ...                   ...          ...                ...  \n",
       "8518          1.0                   2.0          1.0          2778.3834  \n",
       "8519          0.0                   1.0          1.0           549.2850  \n",
       "8520          3.0                   1.0          1.0          1193.1136  \n",
       "8521          2.0                   2.0          2.0          1845.5976  \n",
       "8522          3.0                   0.0          1.0           765.6700  \n",
       "\n",
       "[8523 rows x 12 columns]"
      ]
     },
     "execution_count": 21,
     "metadata": {},
     "output_type": "execute_result"
    }
   ],
   "source": [
    "df"
   ]
  },
  {
   "cell_type": "code",
   "execution_count": 22,
   "metadata": {},
   "outputs": [
    {
     "data": {
      "text/plain": [
       "Item_Identifier             -0.008877\n",
       "Item_Weight                  0.090561\n",
       "Item_Fat_Content             0.994824\n",
       "Item_Visibility              1.167091\n",
       "Item_Type                    0.101655\n",
       "Item_MRP                     0.127202\n",
       "Outlet_Identifier           -0.059861\n",
       "Outlet_Establishment_Year   -0.396641\n",
       "Outlet_Size                 -0.259537\n",
       "Outlet_Location_Type        -0.209093\n",
       "Outlet_Type                  0.927438\n",
       "Item_Outlet_Sales            1.177531\n",
       "dtype: float64"
      ]
     },
     "execution_count": 22,
     "metadata": {},
     "output_type": "execute_result"
    }
   ],
   "source": [
    "df.skew()"
   ]
  },
  {
   "cell_type": "markdown",
   "metadata": {},
   "source": [
    "Keeping +/-(0.5) as the range of skewness. Due to \"Item_Visibility\" bieng continues data we need to treat skewnes.\n"
   ]
  },
  {
   "cell_type": "code",
   "execution_count": 23,
   "metadata": {},
   "outputs": [],
   "source": [
    "x=df.drop('Item_Outlet_Sales', axis =1)\n",
    "y=df['Item_Outlet_Sales']"
   ]
  },
  {
   "cell_type": "code",
   "execution_count": 24,
   "metadata": {},
   "outputs": [],
   "source": [
    "from sklearn.preprocessing import power_transform\n",
    "df.new=power_transform(x)\n",
    "\n",
    "df.new=pd.DataFrame(df.new,columns=x.columns)"
   ]
  },
  {
   "cell_type": "code",
   "execution_count": 25,
   "metadata": {},
   "outputs": [
    {
     "data": {
      "text/plain": [
       "Item_Identifier             -0.293700\n",
       "Item_Weight                 -0.068024\n",
       "Item_Fat_Content             0.032643\n",
       "Item_Visibility              0.124279\n",
       "Item_Type                   -0.164574\n",
       "Item_MRP                    -0.115386\n",
       "Outlet_Identifier           -0.213935\n",
       "Outlet_Establishment_Year   -0.200959\n",
       "Outlet_Size                 -0.278713\n",
       "Outlet_Location_Type        -0.220632\n",
       "Outlet_Type                  0.007863\n",
       "dtype: float64"
      ]
     },
     "execution_count": 25,
     "metadata": {},
     "output_type": "execute_result"
    }
   ],
   "source": [
    "df.new.skew()"
   ]
  },
  {
   "cell_type": "code",
   "execution_count": 26,
   "metadata": {},
   "outputs": [],
   "source": [
    "x=df.new"
   ]
  },
  {
   "cell_type": "markdown",
   "metadata": {},
   "source": [
    "# Checking for outliers"
   ]
  },
  {
   "cell_type": "code",
   "execution_count": 27,
   "metadata": {
    "scrolled": true
   },
   "outputs": [
    {
     "data": {
      "image/png": "[encoded data removed]",
      "text/plain": [
       "<Figure size 1440x576 with 1 Axes>"
      ]
     },
     "metadata": {
      "needs_background": "light"
     },
     "output_type": "display_data"
    }
   ],
   "source": [
    "x.boxplot(figsize=[20,8])\n",
    "plt.subplots_adjust(bottom=.25)\n",
    "plt.show()"
   ]
  },
  {
   "cell_type": "markdown",
   "metadata": {},
   "source": [
    "Very few outliers colud be seen. It could be termed as extreme values."
   ]
  },
  {
   "cell_type": "markdown",
   "metadata": {},
   "source": [
    "# Scaling the data using Min-Max Scaler"
   ]
  },
  {
   "cell_type": "code",
   "execution_count": 28,
   "metadata": {},
   "outputs": [],
   "source": [
    "from sklearn.preprocessing import MinMaxScaler \n",
    "mms=MinMaxScaler() \n",
    "from sklearn.linear_model import LinearRegression \n",
    "lr=LinearRegression() \n",
    "from sklearn.metrics import r2_score "
   ]
  },
  {
   "cell_type": "code",
   "execution_count": 29,
   "metadata": {},
   "outputs": [
    {
     "name": "stdout",
     "output_type": "stream",
     "text": [
      "At randon state 0, the training accuracy is:- 0.5272120850977334\n",
      "At random state 0, the testing accuracy is:0.531648500532128\n",
      "\n",
      "\n",
      "At randon state 1, the training accuracy is:- 0.5281401521108606\n",
      "At random state 1, the testing accuracy is:0.527347406415309\n",
      "\n",
      "\n",
      "At randon state 2, the training accuracy is:- 0.5317598022505615\n",
      "At random state 2, the testing accuracy is:0.5134499986661545\n",
      "\n",
      "\n",
      "At randon state 3, the training accuracy is:- 0.5198670868112503\n",
      "At random state 3, the testing accuracy is:0.5600669137011272\n",
      "\n",
      "\n",
      "At randon state 4, the training accuracy is:- 0.5313637945869261\n",
      "At random state 4, the testing accuracy is:0.5127564346174944\n",
      "\n",
      "\n",
      "At randon state 5, the training accuracy is:- 0.5311116462963777\n",
      "At random state 5, the testing accuracy is:0.5159962068500665\n",
      "\n",
      "\n",
      "At randon state 6, the training accuracy is:- 0.5300133320923083\n",
      "At random state 6, the testing accuracy is:0.5197480931017953\n",
      "\n",
      "\n",
      "At randon state 7, the training accuracy is:- 0.5336440509518127\n",
      "At random state 7, the testing accuracy is:0.5075622311799222\n",
      "\n",
      "\n",
      "At randon state 8, the training accuracy is:- 0.5256379396938653\n",
      "At random state 8, the testing accuracy is:0.5363779865871238\n",
      "\n",
      "\n",
      "At randon state 9, the training accuracy is:- 0.5301017218062039\n",
      "At random state 9, the testing accuracy is:0.5199591711035956\n",
      "\n",
      "\n",
      "At randon state 10, the training accuracy is:- 0.5254443499355147\n",
      "At random state 10, the testing accuracy is:0.5381438422296\n",
      "\n",
      "\n",
      "At randon state 11, the training accuracy is:- 0.5324532319396571\n",
      "At random state 11, the testing accuracy is:0.5099762058584231\n",
      "\n",
      "\n",
      "At randon state 12, the training accuracy is:- 0.5256318018196788\n",
      "At random state 12, the testing accuracy is:0.5376800409529032\n",
      "\n",
      "\n",
      "At randon state 13, the training accuracy is:- 0.5296724284101528\n",
      "At random state 13, the testing accuracy is:0.5213159266143901\n",
      "\n",
      "\n",
      "At randon state 14, the training accuracy is:- 0.528407164545283\n",
      "At random state 14, the testing accuracy is:0.5270389817411537\n",
      "\n",
      "\n",
      "At randon state 15, the training accuracy is:- 0.5257274309747759\n",
      "At random state 15, the testing accuracy is:0.5358468933368782\n",
      "\n",
      "\n",
      "At randon state 16, the training accuracy is:- 0.5280196348187469\n",
      "At random state 16, the testing accuracy is:0.5273326844968855\n",
      "\n",
      "\n",
      "At randon state 17, the training accuracy is:- 0.5276021528299558\n",
      "At random state 17, the testing accuracy is:0.5299145217519641\n",
      "\n",
      "\n",
      "At randon state 18, the training accuracy is:- 0.5305898801192503\n",
      "At random state 18, the testing accuracy is:0.5186576419642241\n",
      "\n",
      "\n",
      "At randon state 19, the training accuracy is:- 0.5302002666356822\n",
      "At random state 19, the testing accuracy is:0.5197124945632248\n",
      "\n",
      "\n",
      "At randon state 20, the training accuracy is:- 0.5258869708962737\n",
      "At random state 20, the testing accuracy is:0.5365285318265183\n",
      "\n",
      "\n",
      "At randon state 21, the training accuracy is:- 0.5265489499527993\n",
      "At random state 21, the testing accuracy is:0.5345393250990058\n",
      "\n",
      "\n",
      "At randon state 22, the training accuracy is:- 0.532368797864879\n",
      "At random state 22, the testing accuracy is:0.5118069644830083\n",
      "\n",
      "\n",
      "At randon state 23, the training accuracy is:- 0.5309643396003516\n",
      "At random state 23, the testing accuracy is:0.5163360967470612\n",
      "\n",
      "\n",
      "At randon state 24, the training accuracy is:- 0.5305766311916471\n",
      "At random state 24, the testing accuracy is:0.517070410417662\n",
      "\n",
      "\n",
      "At randon state 25, the training accuracy is:- 0.5302373299796916\n",
      "At random state 25, the testing accuracy is:0.5198074822690655\n",
      "\n",
      "\n",
      "At randon state 26, the training accuracy is:- 0.5264108502775551\n",
      "At random state 26, the testing accuracy is:0.534043028879328\n",
      "\n",
      "\n",
      "At randon state 27, the training accuracy is:- 0.530907563770002\n",
      "At random state 27, the testing accuracy is:0.5169806517471731\n",
      "\n",
      "\n",
      "At randon state 28, the training accuracy is:- 0.5240813588723073\n",
      "At random state 28, the testing accuracy is:0.5438056554517054\n",
      "\n",
      "\n",
      "At randon state 29, the training accuracy is:- 0.5285291201783902\n",
      "At random state 29, the testing accuracy is:0.5260042819870505\n",
      "\n",
      "\n",
      "At randon state 30, the training accuracy is:- 0.531248354136387\n",
      "At random state 30, the testing accuracy is:0.5161201541582202\n",
      "\n",
      "\n",
      "At randon state 31, the training accuracy is:- 0.5252804107823767\n",
      "At random state 31, the testing accuracy is:0.5391210383110052\n",
      "\n",
      "\n",
      "At randon state 32, the training accuracy is:- 0.527682193795177\n",
      "At random state 32, the testing accuracy is:0.5293249601568247\n",
      "\n",
      "\n",
      "At randon state 33, the training accuracy is:- 0.528541965937634\n",
      "At random state 33, the testing accuracy is:0.5252056610787152\n",
      "\n",
      "\n",
      "At randon state 34, the training accuracy is:- 0.5292256590496573\n",
      "At random state 34, the testing accuracy is:0.522684576937728\n",
      "\n",
      "\n",
      "At randon state 35, the training accuracy is:- 0.5300374390392937\n",
      "At random state 35, the testing accuracy is:0.5204907118267692\n",
      "\n",
      "\n",
      "At randon state 36, the training accuracy is:- 0.5328994388395367\n",
      "At random state 36, the testing accuracy is:0.5056672928294694\n",
      "\n",
      "\n",
      "At randon state 37, the training accuracy is:- 0.5333931726750618\n",
      "At random state 37, the testing accuracy is:0.5045493740242191\n",
      "\n",
      "\n",
      "At randon state 38, the training accuracy is:- 0.5342250885765469\n",
      "At random state 38, the testing accuracy is:0.5031835136171596\n",
      "\n",
      "\n",
      "At randon state 39, the training accuracy is:- 0.524931090926351\n",
      "At random state 39, the testing accuracy is:0.5395768596789317\n",
      "\n",
      "\n",
      "At randon state 40, the training accuracy is:- 0.5264024283976236\n",
      "At random state 40, the testing accuracy is:0.5338693654071252\n",
      "\n",
      "\n",
      "At randon state 41, the training accuracy is:- 0.5351745203373129\n",
      "At random state 41, the testing accuracy is:0.5006644749379522\n",
      "\n",
      "\n",
      "At randon state 42, the training accuracy is:- 0.5244119942762122\n",
      "At random state 42, the testing accuracy is:0.5423720400657239\n",
      "\n",
      "\n",
      "At randon state 43, the training accuracy is:- 0.5288113037294532\n",
      "At random state 43, the testing accuracy is:0.5240704352862549\n",
      "\n",
      "\n",
      "At randon state 44, the training accuracy is:- 0.5258997900685878\n",
      "At random state 44, the testing accuracy is:0.5370088160751401\n",
      "\n",
      "\n",
      "At randon state 45, the training accuracy is:- 0.5264187705430421\n",
      "At random state 45, the testing accuracy is:0.5340569818549783\n",
      "\n",
      "\n",
      "At randon state 46, the training accuracy is:- 0.5312147447878203\n",
      "At random state 46, the testing accuracy is:0.5145485150874698\n",
      "\n",
      "\n",
      "At randon state 47, the training accuracy is:- 0.5305055263012373\n",
      "At random state 47, the testing accuracy is:0.5180660347810254\n",
      "\n",
      "\n",
      "At randon state 48, the training accuracy is:- 0.5275188827493792\n",
      "At random state 48, the testing accuracy is:0.5296269328242078\n",
      "\n",
      "\n",
      "At randon state 49, the training accuracy is:- 0.5259903174922287\n",
      "At random state 49, the testing accuracy is:0.5356809223490249\n",
      "\n",
      "\n",
      "At randon state 50, the training accuracy is:- 0.5275845201733267\n",
      "At random state 50, the testing accuracy is:0.5300134803690714\n",
      "\n",
      "\n",
      "At randon state 51, the training accuracy is:- 0.534197597391785\n",
      "At random state 51, the testing accuracy is:0.5026990116310421\n",
      "\n",
      "\n",
      "At randon state 52, the training accuracy is:- 0.5276900431094917\n",
      "At random state 52, the testing accuracy is:0.5290773061429412\n",
      "\n",
      "\n",
      "At randon state 53, the training accuracy is:- 0.5294523492561704\n",
      "At random state 53, the testing accuracy is:0.521886051248506\n",
      "\n",
      "\n",
      "At randon state 54, the training accuracy is:- 0.5237030311734209\n",
      "At random state 54, the testing accuracy is:0.5439375400974557\n",
      "\n",
      "\n",
      "At randon state 55, the training accuracy is:- 0.5307083352595081\n",
      "At random state 55, the testing accuracy is:0.5176310173959184\n",
      "\n",
      "\n",
      "At randon state 56, the training accuracy is:- 0.5362177412189659\n",
      "At random state 56, the testing accuracy is:0.49736613451288536\n",
      "\n",
      "\n",
      "At randon state 57, the training accuracy is:- 0.5304905046613733\n",
      "At random state 57, the testing accuracy is:0.5182996879282012\n",
      "\n",
      "\n",
      "At randon state 58, the training accuracy is:- 0.529506748317337\n",
      "At random state 58, the testing accuracy is:0.5218440778325864\n",
      "\n",
      "\n",
      "At randon state 59, the training accuracy is:- 0.5306212956609953\n",
      "At random state 59, the testing accuracy is:0.517341706243068\n",
      "\n",
      "\n",
      "At randon state 60, the training accuracy is:- 0.5254282916651001\n",
      "At random state 60, the testing accuracy is:0.5377148080586046\n",
      "\n",
      "\n",
      "At randon state 61, the training accuracy is:- 0.5334354507999468\n",
      "At random state 61, the testing accuracy is:0.5050884515379558\n",
      "\n",
      "\n",
      "At randon state 62, the training accuracy is:- 0.5227834590756837\n",
      "At random state 62, the testing accuracy is:0.5486268833750847\n",
      "\n",
      "\n",
      "At randon state 63, the training accuracy is:- 0.522627720165185\n",
      "At random state 63, the testing accuracy is:0.5505942585354213\n",
      "\n",
      "\n",
      "At randon state 64, the training accuracy is:- 0.5318619299599019\n",
      "At random state 64, the testing accuracy is:0.5125693380444938\n",
      "\n",
      "\n",
      "At randon state 65, the training accuracy is:- 0.5273346557146157\n",
      "At random state 65, the testing accuracy is:0.5303667854181235\n",
      "\n",
      "\n",
      "At randon state 66, the training accuracy is:- 0.5296939956958343\n",
      "At random state 66, the testing accuracy is:0.5218165471137581\n",
      "\n",
      "\n",
      "At randon state 67, the training accuracy is:- 0.5279498255131629\n",
      "At random state 67, the testing accuracy is:0.5287444991536947\n",
      "\n",
      "\n",
      "At randon state 68, the training accuracy is:- 0.5275640617088906\n",
      "At random state 68, the testing accuracy is:0.5299269330926584\n",
      "\n",
      "\n",
      "At randon state 69, the training accuracy is:- 0.5286120137053971\n",
      "At random state 69, the testing accuracy is:0.5253842341688646\n",
      "\n",
      "\n",
      "At randon state 70, the training accuracy is:- 0.525044133474762\n",
      "At random state 70, the testing accuracy is:0.5399162687548145\n",
      "\n",
      "\n",
      "At randon state 71, the training accuracy is:- 0.5268854255933242\n",
      "At random state 71, the testing accuracy is:0.53303943726886\n",
      "\n",
      "\n"
     ]
    },
    {
     "name": "stdout",
     "output_type": "stream",
     "text": [
      "At randon state 72, the training accuracy is:- 0.5231597689232085\n",
      "At random state 72, the testing accuracy is:0.5475641603794549\n",
      "\n",
      "\n",
      "At randon state 73, the training accuracy is:- 0.5301973334776753\n",
      "At random state 73, the testing accuracy is:0.5186510687991803\n",
      "\n",
      "\n",
      "At randon state 74, the training accuracy is:- 0.533722615243142\n",
      "At random state 74, the testing accuracy is:0.5038560627271174\n",
      "\n",
      "\n",
      "At randon state 75, the training accuracy is:- 0.5275772402264913\n",
      "At random state 75, the testing accuracy is:0.5297326841287384\n",
      "\n",
      "\n",
      "At randon state 76, the training accuracy is:- 0.5217603525546788\n",
      "At random state 76, the testing accuracy is:0.5537240866992887\n",
      "\n",
      "\n",
      "At randon state 77, the training accuracy is:- 0.5299660738259913\n",
      "At random state 77, the testing accuracy is:0.5202391107720397\n",
      "\n",
      "\n",
      "At randon state 78, the training accuracy is:- 0.5312231089209627\n",
      "At random state 78, the testing accuracy is:0.515257657739379\n",
      "\n",
      "\n",
      "At randon state 79, the training accuracy is:- 0.5254240234028127\n",
      "At random state 79, the testing accuracy is:0.5374829275393403\n",
      "\n",
      "\n",
      "At randon state 80, the training accuracy is:- 0.5252315112064376\n",
      "At random state 80, the testing accuracy is:0.5395139261754921\n",
      "\n",
      "\n",
      "At randon state 81, the training accuracy is:- 0.5279218970197478\n",
      "At random state 81, the testing accuracy is:0.5289238170045629\n",
      "\n",
      "\n",
      "At randon state 82, the training accuracy is:- 0.526048437566388\n",
      "At random state 82, the testing accuracy is:0.5357930943948597\n",
      "\n",
      "\n",
      "At randon state 83, the training accuracy is:- 0.5288436428388663\n",
      "At random state 83, the testing accuracy is:0.5240358844438113\n",
      "\n",
      "\n",
      "At randon state 84, the training accuracy is:- 0.5287445503096944\n",
      "At random state 84, the testing accuracy is:0.5245154585254466\n",
      "\n",
      "\n",
      "At randon state 85, the training accuracy is:- 0.5279728003797688\n",
      "At random state 85, the testing accuracy is:0.5283937914727556\n",
      "\n",
      "\n",
      "At randon state 86, the training accuracy is:- 0.5290653469230636\n",
      "At random state 86, the testing accuracy is:0.5239505624935581\n",
      "\n",
      "\n",
      "At randon state 87, the training accuracy is:- 0.5309588225627266\n",
      "At random state 87, the testing accuracy is:0.5152511992573652\n",
      "\n",
      "\n",
      "At randon state 88, the training accuracy is:- 0.5267092991451536\n",
      "At random state 88, the testing accuracy is:0.5333806115455599\n",
      "\n",
      "\n",
      "At randon state 89, the training accuracy is:- 0.5227733089816755\n",
      "At random state 89, the testing accuracy is:0.5490903529333704\n",
      "\n",
      "\n",
      "At randon state 90, the training accuracy is:- 0.5348419420656174\n",
      "At random state 90, the testing accuracy is:0.49752408292752137\n",
      "\n",
      "\n",
      "At randon state 91, the training accuracy is:- 0.5327306818109709\n",
      "At random state 91, the testing accuracy is:0.5089314634958056\n",
      "\n",
      "\n",
      "At randon state 92, the training accuracy is:- 0.5278605888084635\n",
      "At random state 92, the testing accuracy is:0.5283909338951873\n",
      "\n",
      "\n",
      "At randon state 93, the training accuracy is:- 0.5286183741784731\n",
      "At random state 93, the testing accuracy is:0.5258409186988401\n",
      "\n",
      "\n",
      "At randon state 94, the training accuracy is:- 0.5287969768370678\n",
      "At random state 94, the testing accuracy is:0.5238313598853855\n",
      "\n",
      "\n",
      "At randon state 95, the training accuracy is:- 0.5277176908177126\n",
      "At random state 95, the testing accuracy is:0.5295385682382658\n",
      "\n",
      "\n",
      "At randon state 96, the training accuracy is:- 0.5314878408627859\n",
      "At random state 96, the testing accuracy is:0.5111476003000559\n",
      "\n",
      "\n",
      "At randon state 97, the training accuracy is:- 0.527688414524669\n",
      "At random state 97, the testing accuracy is:0.5289122724820063\n",
      "\n",
      "\n",
      "At randon state 98, the training accuracy is:- 0.5322794936873194\n",
      "At random state 98, the testing accuracy is:0.509509672389379\n",
      "\n",
      "\n",
      "At randon state 99, the training accuracy is:- 0.5242146000294516\n",
      "At random state 99, the testing accuracy is:0.5414426162526216\n",
      "\n",
      "\n"
     ]
    }
   ],
   "source": [
    "for i in range(0,100):\n",
    "    x_train, x_test, y_train, y_test=train_test_split(x, y, test_size=0.2, random_state=i)\n",
    "    lr.fit(x_train,y_train) \n",
    "    pred_train=lr.predict(x_train) \n",
    "    pred_test=lr.predict(x_test) \n",
    "    print (f\"At randon state {i}, the training accuracy is:- {r2_score(y_train, pred_train)}\") \n",
    "    print (f\"At random state {i}, the testing accuracy is:{r2_score(y_test,pred_test)}\") \n",
    "    print(\"\\n\")"
   ]
  },
  {
   "cell_type": "code",
   "execution_count": 30,
   "metadata": {},
   "outputs": [],
   "source": [
    "x_train, x_test, y_train, y_test=train_test_split(x, y, test_size=0.2, random_state=99)"
   ]
  },
  {
   "cell_type": "code",
   "execution_count": 31,
   "metadata": {},
   "outputs": [
    {
     "data": {
      "text/plain": [
       "LinearRegression()"
      ]
     },
     "execution_count": 31,
     "metadata": {},
     "output_type": "execute_result"
    }
   ],
   "source": [
    "lr.fit(x_train, y_train)"
   ]
  },
  {
   "cell_type": "code",
   "execution_count": 32,
   "metadata": {},
   "outputs": [],
   "source": [
    "prd_test=lr.predict(x_test)"
   ]
  },
  {
   "cell_type": "code",
   "execution_count": 33,
   "metadata": {},
   "outputs": [
    {
     "name": "stdout",
     "output_type": "stream",
     "text": [
      "0.5414426162526216\n"
     ]
    }
   ],
   "source": [
    "print (r2_score(y_test, pred_test))"
   ]
  },
  {
   "cell_type": "markdown",
   "metadata": {},
   "source": [
    "# Cross-validation of the model"
   ]
  },
  {
   "cell_type": "code",
   "execution_count": 34,
   "metadata": {},
   "outputs": [],
   "source": [
    "Train_accuracy=r2_score(y_train,pred_train) \n",
    "Test_accuracy= r2_score(y_test,pred_test)"
   ]
  },
  {
   "cell_type": "code",
   "execution_count": 35,
   "metadata": {},
   "outputs": [
    {
     "name": "stdout",
     "output_type": "stream",
     "text": [
      " At cross fold 2 the cv score is 0.5260773638926586 and accuracy score for training is 0.5242146000294516 and accuracy score for testing is 0.5414426162526216\n",
      "\n",
      "\n",
      " At cross fold 3 the cv score is 0.526472828353021 and accuracy score for training is 0.5242146000294516 and accuracy score for testing is 0.5414426162526216\n",
      "\n",
      "\n",
      " At cross fold 4 the cv score is 0.525017223229605 and accuracy score for training is 0.5242146000294516 and accuracy score for testing is 0.5414426162526216\n",
      "\n",
      "\n",
      " At cross fold 5 the cv score is 0.526052401604402 and accuracy score for training is 0.5242146000294516 and accuracy score for testing is 0.5414426162526216\n",
      "\n",
      "\n",
      " At cross fold 6 the cv score is 0.5258349731176254 and accuracy score for training is 0.5242146000294516 and accuracy score for testing is 0.5414426162526216\n",
      "\n",
      "\n",
      " At cross fold 7 the cv score is 0.5264755848706005 and accuracy score for training is 0.5242146000294516 and accuracy score for testing is 0.5414426162526216\n",
      "\n",
      "\n",
      " At cross fold 8 the cv score is 0.5256887073556815 and accuracy score for training is 0.5242146000294516 and accuracy score for testing is 0.5414426162526216\n",
      "\n",
      "\n",
      " At cross fold 9 the cv score is 0.525934556979273 and accuracy score for training is 0.5242146000294516 and accuracy score for testing is 0.5414426162526216\n",
      "\n",
      "\n"
     ]
    }
   ],
   "source": [
    "from sklearn.model_selection import cross_val_score \n",
    "for j in range (2,10):\n",
    "    cv_score=cross_val_score (lr , x, y, cv=j)\n",
    "    cv_mean=cv_score.mean()\n",
    "    print(f\" At cross fold {j} the cv score is {cv_mean} and accuracy score for training is {Train_accuracy} and accuracy score for testing is {Test_accuracy}\")  \n",
    "    print(\"\\n\")"
   ]
  },
  {
   "cell_type": "markdown",
   "metadata": {},
   "source": [
    "Since the number of folds don't have such impact on the accuracy and cv_score. So cv=5 is selected."
   ]
  },
  {
   "cell_type": "code",
   "execution_count": null,
   "metadata": {},
   "outputs": [],
   "source": []
  },
  {
   "cell_type": "code",
   "execution_count": 36,
   "metadata": {},
   "outputs": [
    {
     "data": {
      "image/png": "[encoded data removed]",
      "text/plain": [
       "<Figure size 576x432 with 1 Axes>"
      ]
     },
     "metadata": {
      "needs_background": "light"
     },
     "output_type": "display_data"
    }
   ],
   "source": [
    "import matplotlib.pyplot as plt \n",
    "plt. figure(figsize=(8,6)) \n",
    "plt. scatter(x=y_test, y=pred_test, color='r') \n",
    "plt.plot(y_test, y_test, color='b') \n",
    "plt.xlabel('Actual sales', fontsize=14) \n",
    "plt.ylabel('predicted sales', fontsize=14) \n",
    "plt.title('Linear regression', fontsize=18) \n",
    "plt.show()"
   ]
  },
  {
   "cell_type": "markdown",
   "metadata": {},
   "source": [
    "# Regularization"
   ]
  },
  {
   "cell_type": "code",
   "execution_count": 37,
   "metadata": {},
   "outputs": [],
   "source": [
    "from sklearn.model_selection import GridSearchCV \n",
    "from sklearn.model_selection import cross_val_score"
   ]
  },
  {
   "cell_type": "code",
   "execution_count": 38,
   "metadata": {},
   "outputs": [
    {
     "name": "stdout",
     "output_type": "stream",
     "text": [
      "{'alpha': 1, 'random_state': 0}\n"
     ]
    }
   ],
   "source": [
    "from sklearn.linear_model import Lasso \n",
    "parameters = {'alpha' : [.0001, .001, .01, .1, 1, 10], 'random_state' :list (range(0,10))} \n",
    "ls= Lasso() \n",
    "clf= GridSearchCV(ls, parameters) \n",
    "clf.fit(x_train, y_train)\n",
    "print (clf.best_params_)"
   ]
  },
  {
   "cell_type": "code",
   "execution_count": 39,
   "metadata": {},
   "outputs": [
    {
     "data": {
      "text/plain": [
       "0.5412843747180921"
      ]
     },
     "execution_count": 39,
     "metadata": {},
     "output_type": "execute_result"
    }
   ],
   "source": [
    "ls=Lasso(alpha=1, random_state=0) \n",
    "ls.fit(x_train, y_train) \n",
    "ls.score(x_train, y_train) \n",
    "pred_ls=ls.predict(x_test) \n",
    "lss = r2_score(y_test ,pred_ls) \n",
    "lss"
   ]
  },
  {
   "cell_type": "code",
   "execution_count": 40,
   "metadata": {},
   "outputs": [
    {
     "data": {
      "text/plain": [
       "0.5264961910250955"
      ]
     },
     "execution_count": 40,
     "metadata": {},
     "output_type": "execute_result"
    }
   ],
   "source": [
    "cv_score=cross_val_score (ls , x, y,cv=3) \n",
    "cv_mean=cv_score.mean() \n",
    "cv_mean"
   ]
  },
  {
   "cell_type": "markdown",
   "metadata": {},
   "source": [
    "# Ensemble Technique"
   ]
  },
  {
   "cell_type": "code",
   "execution_count": null,
   "metadata": {
    "scrolled": false
   },
   "outputs": [],
   "source": [
    "from sklearn.model_selection import GridSearchCV \n",
    "from sklearn.ensemble import RandomForestRegressor \n",
    "\n",
    "\n",
    "parameters = {'criterion':['mse', 'mae'], 'max_features':['auto', 'sqrt','log2']}\n",
    "rf=RandomForestRegressor() \n",
    "clf = GridSearchCV(rf,parameters) \n",
    "clf.fit(x_train ,y_train) \n",
    "print (clf.best_params_)\n",
    "              "
   ]
  },
  {
   "cell_type": "code",
   "execution_count": 42,
   "metadata": {},
   "outputs": [
    {
     "name": "stdout",
     "output_type": "stream",
     "text": [
      "R2 core: 58.60048280472363\n",
      "Cross Val Score: 55.1724783213358\n"
     ]
    }
   ],
   "source": [
    "rf=RandomForestRegressor (criterion=\"mse\", max_features=\"auto\") \n",
    "rf.fit(x_train, y_train) \n",
    "rf.score(x_train,y_train) \n",
    "pred_decision =rf.predict(x_test) \n",
    "\n",
    "rfs = r2_score(y_test, pred_decision) \n",
    "print('R2 core:' , rfs*100 ) \n",
    "     \n",
    "rfscore = cross_val_score( rf,x,y,cv=3) \n",
    "rfc = rfscore.mean() \n",
    "print('Cross Val Score:',rfc* 100)"
   ]
  },
  {
   "cell_type": "code",
   "execution_count": 43,
   "metadata": {},
   "outputs": [],
   "source": [
    "import pickle \n",
    "filename = 'bigdatamart_train_project.pkl'\n",
    "pickle.dump(rf, open( filename, 'wb' ))"
   ]
  },
  {
   "cell_type": "markdown",
   "metadata": {},
   "source": [
    "# Conclusion"
   ]
  },
  {
   "cell_type": "code",
   "execution_count": 44,
   "metadata": {},
   "outputs": [
    {
     "name": "stdout",
     "output_type": "stream",
     "text": [
      "0.5860048280472363\n"
     ]
    }
   ],
   "source": [
    "loaded_model = pickle.load(open('bigdatamart_train_project.pkl', 'rb')) \n",
    "result = loaded_model.score(x_test, y_test)\n",
    "\n",
    "print(result)"
   ]
  },
  {
   "cell_type": "code",
   "execution_count": 45,
   "metadata": {},
   "outputs": [
    {
     "data": {
      "text/html": [
       "<div>\n",
       "<style scoped>\n",
       "    .dataframe tbody tr th:only-of-type {\n",
       "        vertical-align: middle;\n",
       "    }\n",
       "\n",
       "    .dataframe tbody tr th {\n",
       "        vertical-align: top;\n",
       "    }\n",
       "\n",
       "    .dataframe thead th {\n",
       "        text-align: right;\n",
       "    }\n",
       "</style>\n",
       "<table border=\"1\" class=\"dataframe\">\n",
       "  <thead>\n",
       "    <tr style=\"text-align: right;\">\n",
       "      <th></th>\n",
       "      <th>0</th>\n",
       "      <th>1</th>\n",
       "      <th>2</th>\n",
       "      <th>3</th>\n",
       "      <th>4</th>\n",
       "      <th>5</th>\n",
       "      <th>6</th>\n",
       "      <th>7</th>\n",
       "      <th>8</th>\n",
       "      <th>9</th>\n",
       "      <th>...</th>\n",
       "      <th>1695</th>\n",
       "      <th>1696</th>\n",
       "      <th>1697</th>\n",
       "      <th>1698</th>\n",
       "      <th>1699</th>\n",
       "      <th>1700</th>\n",
       "      <th>1701</th>\n",
       "      <th>1702</th>\n",
       "      <th>1703</th>\n",
       "      <th>1704</th>\n",
       "    </tr>\n",
       "  </thead>\n",
       "  <tbody>\n",
       "    <tr>\n",
       "      <th>Predicted</th>\n",
       "      <td>1216.629656</td>\n",
       "      <td>1677.816</td>\n",
       "      <td>5317.704652</td>\n",
       "      <td>2484.219644</td>\n",
       "      <td>1151.214806</td>\n",
       "      <td>4147.854104</td>\n",
       "      <td>4097.606178</td>\n",
       "      <td>1558.850856</td>\n",
       "      <td>284.855872</td>\n",
       "      <td>78.784114</td>\n",
       "      <td>...</td>\n",
       "      <td>4188.095056</td>\n",
       "      <td>2690.23148</td>\n",
       "      <td>4182.282622</td>\n",
       "      <td>756.422038</td>\n",
       "      <td>1670.678624</td>\n",
       "      <td>1339.55631</td>\n",
       "      <td>558.526304</td>\n",
       "      <td>1249.87305</td>\n",
       "      <td>3071.981226</td>\n",
       "      <td>1579.803582</td>\n",
       "    </tr>\n",
       "    <tr>\n",
       "      <th>orginal</th>\n",
       "      <td>1216.629656</td>\n",
       "      <td>1677.816</td>\n",
       "      <td>5317.704652</td>\n",
       "      <td>2484.219644</td>\n",
       "      <td>1151.214806</td>\n",
       "      <td>4147.854104</td>\n",
       "      <td>4097.606178</td>\n",
       "      <td>1558.850856</td>\n",
       "      <td>284.855872</td>\n",
       "      <td>78.784114</td>\n",
       "      <td>...</td>\n",
       "      <td>4188.095056</td>\n",
       "      <td>2690.23148</td>\n",
       "      <td>4182.282622</td>\n",
       "      <td>756.422038</td>\n",
       "      <td>1670.678624</td>\n",
       "      <td>1339.55631</td>\n",
       "      <td>558.526304</td>\n",
       "      <td>1249.87305</td>\n",
       "      <td>3071.981226</td>\n",
       "      <td>1579.803582</td>\n",
       "    </tr>\n",
       "  </tbody>\n",
       "</table>\n",
       "<p>2 rows × 1705 columns</p>\n",
       "</div>"
      ],
      "text/plain": [
       "                  0         1            2            3            4     \\\n",
       "Predicted  1216.629656  1677.816  5317.704652  2484.219644  1151.214806   \n",
       "orginal    1216.629656  1677.816  5317.704652  2484.219644  1151.214806   \n",
       "\n",
       "                  5            6            7           8          9     ...  \\\n",
       "Predicted  4147.854104  4097.606178  1558.850856  284.855872  78.784114  ...   \n",
       "orginal    4147.854104  4097.606178  1558.850856  284.855872  78.784114  ...   \n",
       "\n",
       "                  1695        1696         1697        1698         1699  \\\n",
       "Predicted  4188.095056  2690.23148  4182.282622  756.422038  1670.678624   \n",
       "orginal    4188.095056  2690.23148  4182.282622  756.422038  1670.678624   \n",
       "\n",
       "                 1700        1701        1702         1703         1704  \n",
       "Predicted  1339.55631  558.526304  1249.87305  3071.981226  1579.803582  \n",
       "orginal    1339.55631  558.526304  1249.87305  3071.981226  1579.803582  \n",
       "\n",
       "[2 rows x 1705 columns]"
      ]
     },
     "execution_count": 45,
     "metadata": {},
     "output_type": "execute_result"
    }
   ],
   "source": [
    "conclusion=pd.DataFrame([loaded_model.predict(x_test)[:], pred_decision[:]], index=[\"Predicted\", \"orginal\"])\n",
    "\n",
    "conclusion"
   ]
  },
  {
   "cell_type": "markdown",
   "metadata": {},
   "source": [
    "# Working on Test Data"
   ]
  },
  {
   "cell_type": "code",
   "execution_count": 46,
   "metadata": {},
   "outputs": [
    {
     "data": {
      "text/html": [
       "<div>\n",
       "<style scoped>\n",
       "    .dataframe tbody tr th:only-of-type {\n",
       "        vertical-align: middle;\n",
       "    }\n",
       "\n",
       "    .dataframe tbody tr th {\n",
       "        vertical-align: top;\n",
       "    }\n",
       "\n",
       "    .dataframe thead th {\n",
       "        text-align: right;\n",
       "    }\n",
       "</style>\n",
       "<table border=\"1\" class=\"dataframe\">\n",
       "  <thead>\n",
       "    <tr style=\"text-align: right;\">\n",
       "      <th></th>\n",
       "      <th>Item_Identifier</th>\n",
       "      <th>Item_Weight</th>\n",
       "      <th>Item_Fat_Content</th>\n",
       "      <th>Item_Visibility</th>\n",
       "      <th>Item_Type</th>\n",
       "      <th>Item_MRP</th>\n",
       "      <th>Outlet_Identifier</th>\n",
       "      <th>Outlet_Establishment_Year</th>\n",
       "      <th>Outlet_Size</th>\n",
       "      <th>Outlet_Location_Type</th>\n",
       "      <th>Outlet_Type</th>\n",
       "    </tr>\n",
       "  </thead>\n",
       "  <tbody>\n",
       "    <tr>\n",
       "      <th>0</th>\n",
       "      <td>FDW58</td>\n",
       "      <td>20.750</td>\n",
       "      <td>Low Fat</td>\n",
       "      <td>0.007565</td>\n",
       "      <td>Snack Foods</td>\n",
       "      <td>107.8622</td>\n",
       "      <td>OUT049</td>\n",
       "      <td>1999</td>\n",
       "      <td>Medium</td>\n",
       "      <td>Tier 1</td>\n",
       "      <td>Supermarket Type1</td>\n",
       "    </tr>\n",
       "    <tr>\n",
       "      <th>1</th>\n",
       "      <td>FDW14</td>\n",
       "      <td>8.300</td>\n",
       "      <td>reg</td>\n",
       "      <td>0.038428</td>\n",
       "      <td>Dairy</td>\n",
       "      <td>87.3198</td>\n",
       "      <td>OUT017</td>\n",
       "      <td>2007</td>\n",
       "      <td>NaN</td>\n",
       "      <td>Tier 2</td>\n",
       "      <td>Supermarket Type1</td>\n",
       "    </tr>\n",
       "    <tr>\n",
       "      <th>2</th>\n",
       "      <td>NCN55</td>\n",
       "      <td>14.600</td>\n",
       "      <td>Low Fat</td>\n",
       "      <td>0.099575</td>\n",
       "      <td>Others</td>\n",
       "      <td>241.7538</td>\n",
       "      <td>OUT010</td>\n",
       "      <td>1998</td>\n",
       "      <td>NaN</td>\n",
       "      <td>Tier 3</td>\n",
       "      <td>Grocery Store</td>\n",
       "    </tr>\n",
       "    <tr>\n",
       "      <th>3</th>\n",
       "      <td>FDQ58</td>\n",
       "      <td>7.315</td>\n",
       "      <td>Low Fat</td>\n",
       "      <td>0.015388</td>\n",
       "      <td>Snack Foods</td>\n",
       "      <td>155.0340</td>\n",
       "      <td>OUT017</td>\n",
       "      <td>2007</td>\n",
       "      <td>NaN</td>\n",
       "      <td>Tier 2</td>\n",
       "      <td>Supermarket Type1</td>\n",
       "    </tr>\n",
       "    <tr>\n",
       "      <th>4</th>\n",
       "      <td>FDY38</td>\n",
       "      <td>NaN</td>\n",
       "      <td>Regular</td>\n",
       "      <td>0.118599</td>\n",
       "      <td>Dairy</td>\n",
       "      <td>234.2300</td>\n",
       "      <td>OUT027</td>\n",
       "      <td>1985</td>\n",
       "      <td>Medium</td>\n",
       "      <td>Tier 3</td>\n",
       "      <td>Supermarket Type3</td>\n",
       "    </tr>\n",
       "    <tr>\n",
       "      <th>...</th>\n",
       "      <td>...</td>\n",
       "      <td>...</td>\n",
       "      <td>...</td>\n",
       "      <td>...</td>\n",
       "      <td>...</td>\n",
       "      <td>...</td>\n",
       "      <td>...</td>\n",
       "      <td>...</td>\n",
       "      <td>...</td>\n",
       "      <td>...</td>\n",
       "      <td>...</td>\n",
       "    </tr>\n",
       "    <tr>\n",
       "      <th>5676</th>\n",
       "      <td>FDB58</td>\n",
       "      <td>10.500</td>\n",
       "      <td>Regular</td>\n",
       "      <td>0.013496</td>\n",
       "      <td>Snack Foods</td>\n",
       "      <td>141.3154</td>\n",
       "      <td>OUT046</td>\n",
       "      <td>1997</td>\n",
       "      <td>Small</td>\n",
       "      <td>Tier 1</td>\n",
       "      <td>Supermarket Type1</td>\n",
       "    </tr>\n",
       "    <tr>\n",
       "      <th>5677</th>\n",
       "      <td>FDD47</td>\n",
       "      <td>7.600</td>\n",
       "      <td>Regular</td>\n",
       "      <td>0.142991</td>\n",
       "      <td>Starchy Foods</td>\n",
       "      <td>169.1448</td>\n",
       "      <td>OUT018</td>\n",
       "      <td>2009</td>\n",
       "      <td>Medium</td>\n",
       "      <td>Tier 3</td>\n",
       "      <td>Supermarket Type2</td>\n",
       "    </tr>\n",
       "    <tr>\n",
       "      <th>5678</th>\n",
       "      <td>NCO17</td>\n",
       "      <td>10.000</td>\n",
       "      <td>Low Fat</td>\n",
       "      <td>0.073529</td>\n",
       "      <td>Health and Hygiene</td>\n",
       "      <td>118.7440</td>\n",
       "      <td>OUT045</td>\n",
       "      <td>2002</td>\n",
       "      <td>NaN</td>\n",
       "      <td>Tier 2</td>\n",
       "      <td>Supermarket Type1</td>\n",
       "    </tr>\n",
       "    <tr>\n",
       "      <th>5679</th>\n",
       "      <td>FDJ26</td>\n",
       "      <td>15.300</td>\n",
       "      <td>Regular</td>\n",
       "      <td>0.000000</td>\n",
       "      <td>Canned</td>\n",
       "      <td>214.6218</td>\n",
       "      <td>OUT017</td>\n",
       "      <td>2007</td>\n",
       "      <td>NaN</td>\n",
       "      <td>Tier 2</td>\n",
       "      <td>Supermarket Type1</td>\n",
       "    </tr>\n",
       "    <tr>\n",
       "      <th>5680</th>\n",
       "      <td>FDU37</td>\n",
       "      <td>9.500</td>\n",
       "      <td>Regular</td>\n",
       "      <td>0.104720</td>\n",
       "      <td>Canned</td>\n",
       "      <td>79.7960</td>\n",
       "      <td>OUT045</td>\n",
       "      <td>2002</td>\n",
       "      <td>NaN</td>\n",
       "      <td>Tier 2</td>\n",
       "      <td>Supermarket Type1</td>\n",
       "    </tr>\n",
       "  </tbody>\n",
       "</table>\n",
       "<p>5681 rows × 11 columns</p>\n",
       "</div>"
      ],
      "text/plain": [
       "     Item_Identifier  Item_Weight Item_Fat_Content  Item_Visibility  \\\n",
       "0              FDW58       20.750          Low Fat         0.007565   \n",
       "1              FDW14        8.300              reg         0.038428   \n",
       "2              NCN55       14.600          Low Fat         0.099575   \n",
       "3              FDQ58        7.315          Low Fat         0.015388   \n",
       "4              FDY38          NaN          Regular         0.118599   \n",
       "...              ...          ...              ...              ...   \n",
       "5676           FDB58       10.500          Regular         0.013496   \n",
       "5677           FDD47        7.600          Regular         0.142991   \n",
       "5678           NCO17       10.000          Low Fat         0.073529   \n",
       "5679           FDJ26       15.300          Regular         0.000000   \n",
       "5680           FDU37        9.500          Regular         0.104720   \n",
       "\n",
       "               Item_Type  Item_MRP Outlet_Identifier  \\\n",
       "0            Snack Foods  107.8622            OUT049   \n",
       "1                  Dairy   87.3198            OUT017   \n",
       "2                 Others  241.7538            OUT010   \n",
       "3            Snack Foods  155.0340            OUT017   \n",
       "4                  Dairy  234.2300            OUT027   \n",
       "...                  ...       ...               ...   \n",
       "5676         Snack Foods  141.3154            OUT046   \n",
       "5677       Starchy Foods  169.1448            OUT018   \n",
       "5678  Health and Hygiene  118.7440            OUT045   \n",
       "5679              Canned  214.6218            OUT017   \n",
       "5680              Canned   79.7960            OUT045   \n",
       "\n",
       "      Outlet_Establishment_Year Outlet_Size Outlet_Location_Type  \\\n",
       "0                          1999      Medium               Tier 1   \n",
       "1                          2007         NaN               Tier 2   \n",
       "2                          1998         NaN               Tier 3   \n",
       "3                          2007         NaN               Tier 2   \n",
       "4                          1985      Medium               Tier 3   \n",
       "...                         ...         ...                  ...   \n",
       "5676                       1997       Small               Tier 1   \n",
       "5677                       2009      Medium               Tier 3   \n",
       "5678                       2002         NaN               Tier 2   \n",
       "5679                       2007         NaN               Tier 2   \n",
       "5680                       2002         NaN               Tier 2   \n",
       "\n",
       "            Outlet_Type  \n",
       "0     Supermarket Type1  \n",
       "1     Supermarket Type1  \n",
       "2         Grocery Store  \n",
       "3     Supermarket Type1  \n",
       "4     Supermarket Type3  \n",
       "...                 ...  \n",
       "5676  Supermarket Type1  \n",
       "5677  Supermarket Type2  \n",
       "5678  Supermarket Type1  \n",
       "5679  Supermarket Type1  \n",
       "5680  Supermarket Type1  \n",
       "\n",
       "[5681 rows x 11 columns]"
      ]
     },
     "execution_count": 46,
     "metadata": {},
     "output_type": "execute_result"
    }
   ],
   "source": [
    "df.test=pd.read_csv('bigdatamart_Test.csv')\n",
    "df.test"
   ]
  },
  {
   "cell_type": "code",
   "execution_count": 49,
   "metadata": {},
   "outputs": [
    {
     "data": {
      "text/plain": [
       "Item_Identifier               object\n",
       "Item_Weight                  float64\n",
       "Item_Fat_Content              object\n",
       "Item_Visibility              float64\n",
       "Item_Type                     object\n",
       "Item_MRP                     float64\n",
       "Outlet_Identifier             object\n",
       "Outlet_Establishment_Year      int64\n",
       "Outlet_Size                   object\n",
       "Outlet_Location_Type          object\n",
       "Outlet_Type                   object\n",
       "dtype: object"
      ]
     },
     "execution_count": 49,
     "metadata": {},
     "output_type": "execute_result"
    }
   ],
   "source": [
    "df.test.dtypes"
   ]
  },
  {
   "cell_type": "code",
   "execution_count": 50,
   "metadata": {},
   "outputs": [
    {
     "data": {
      "text/plain": [
       "Item_Identifier                 0\n",
       "Item_Weight                   976\n",
       "Item_Fat_Content                0\n",
       "Item_Visibility                 0\n",
       "Item_Type                       0\n",
       "Item_MRP                        0\n",
       "Outlet_Identifier               0\n",
       "Outlet_Establishment_Year       0\n",
       "Outlet_Size                  1606\n",
       "Outlet_Location_Type            0\n",
       "Outlet_Type                     0\n",
       "dtype: int64"
      ]
     },
     "execution_count": 50,
     "metadata": {},
     "output_type": "execute_result"
    }
   ],
   "source": [
    "df.test.isnull().sum()"
   ]
  },
  {
   "cell_type": "code",
   "execution_count": 52,
   "metadata": {},
   "outputs": [
    {
     "data": {
      "image/png": "[encoded data removed]",
      "text/plain": [
       "<Figure size 432x288 with 2 Axes>"
      ]
     },
     "metadata": {
      "needs_background": "light"
     },
     "output_type": "display_data"
    }
   ],
   "source": [
    "import seaborn as sns\n",
    "import matplotlib.pyplot as plt\n",
    "sns.heatmap(df.test.isnull())\n",
    "plt.title('Null Values')\n",
    "plt.show()"
   ]
  },
  {
   "cell_type": "code",
   "execution_count": 53,
   "metadata": {},
   "outputs": [],
   "source": [
    "df.test['Item_Weight']=df.test['Item_Weight'].fillna(np.mean(df.test['Item_Weight']))\n",
    "df.test['Outlet_Size']=df.test['Outlet_Size'].fillna(' ')"
   ]
  },
  {
   "cell_type": "code",
   "execution_count": 54,
   "metadata": {},
   "outputs": [
    {
     "data": {
      "text/plain": [
       "Item_Identifier              0\n",
       "Item_Weight                  0\n",
       "Item_Fat_Content             0\n",
       "Item_Visibility              0\n",
       "Item_Type                    0\n",
       "Item_MRP                     0\n",
       "Outlet_Identifier            0\n",
       "Outlet_Establishment_Year    0\n",
       "Outlet_Size                  0\n",
       "Outlet_Location_Type         0\n",
       "Outlet_Type                  0\n",
       "dtype: int64"
      ]
     },
     "execution_count": 54,
     "metadata": {},
     "output_type": "execute_result"
    }
   ],
   "source": [
    "df.test.isnull().sum()"
   ]
  },
  {
   "cell_type": "markdown",
   "metadata": {},
   "source": [
    "no null values left."
   ]
  },
  {
   "cell_type": "markdown",
   "metadata": {},
   "source": [
    "# Data Visualisation"
   ]
  },
  {
   "cell_type": "code",
   "execution_count": 55,
   "metadata": {},
   "outputs": [
    {
     "name": "stdout",
     "output_type": "stream",
     "text": [
      "8523\n"
     ]
    },
    {
     "data": {
      "image/png": "[encoded data removed]",
      "text/plain": [
       "<Figure size 432x288 with 1 Axes>"
      ]
     },
     "metadata": {
      "needs_background": "light"
     },
     "output_type": "display_data"
    }
   ],
   "source": [
    "ax=sns.countplot(x='Item_Fat_Content',data=df.test)\n",
    "print(df['Item_Fat_Content'].count())"
   ]
  },
  {
   "cell_type": "code",
   "execution_count": 56,
   "metadata": {},
   "outputs": [
    {
     "name": "stdout",
     "output_type": "stream",
     "text": [
      "8523\n"
     ]
    },
    {
     "data": {
      "image/png": "[encoded data removed]",
      "text/plain": [
       "<Figure size 432x288 with 1 Axes>"
      ]
     },
     "metadata": {
      "needs_background": "light"
     },
     "output_type": "display_data"
    }
   ],
   "source": [
    "ax=sns.countplot(x='Outlet_Size',data=df.test)\n",
    "print(df['Outlet_Size'].count())"
   ]
  },
  {
   "cell_type": "code",
   "execution_count": 57,
   "metadata": {},
   "outputs": [
    {
     "name": "stdout",
     "output_type": "stream",
     "text": [
      "8523\n"
     ]
    },
    {
     "data": {
      "image/png": "[encoded data removed]",
      "text/plain": [
       "<Figure size 432x288 with 1 Axes>"
      ]
     },
     "metadata": {
      "needs_background": "light"
     },
     "output_type": "display_data"
    }
   ],
   "source": [
    "ax=sns.countplot(x='Outlet_Location_Type',data=df.test)\n",
    "print(df['Outlet_Location_Type'].count())"
   ]
  },
  {
   "cell_type": "code",
   "execution_count": 61,
   "metadata": {},
   "outputs": [
    {
     "name": "stdout",
     "output_type": "stream",
     "text": [
      "5681\n"
     ]
    },
    {
     "data": {
      "image/png": "[encoded data removed]",
      "text/plain": [
       "<Figure size 432x288 with 1 Axes>"
      ]
     },
     "metadata": {
      "needs_background": "light"
     },
     "output_type": "display_data"
    }
   ],
   "source": [
    "ax=sns.countplot(x='Outlet_Type',data=df.test)\n",
    "print(df.test['Outlet_Type'].count())"
   ]
  },
  {
   "cell_type": "code",
   "execution_count": 59,
   "metadata": {},
   "outputs": [
    {
     "name": "stdout",
     "output_type": "stream",
     "text": [
      "5681\n"
     ]
    },
    {
     "data": {
      "image/png": "[encoded data removed]",
      "text/plain": [
       "<Figure size 432x288 with 1 Axes>"
      ]
     },
     "metadata": {
      "needs_background": "light"
     },
     "output_type": "display_data"
    }
   ],
   "source": [
    "df.test['Item_Weight'].hist(grid=True)\n",
    "plt.title('Item_Weight')\n",
    "print(df.test['Item_Weight'].count())\n",
    "plt.show()"
   ]
  },
  {
   "cell_type": "code",
   "execution_count": 60,
   "metadata": {},
   "outputs": [
    {
     "name": "stdout",
     "output_type": "stream",
     "text": [
      "5681\n"
     ]
    },
    {
     "data": {
      "image/png": "[encoded data removed]",
      "text/plain": [
       "<Figure size 432x288 with 1 Axes>"
      ]
     },
     "metadata": {
      "needs_background": "light"
     },
     "output_type": "display_data"
    }
   ],
   "source": [
    "df.test['Item_MRP'].hist(grid=True)\n",
    "plt.title('Item_MRP')\n",
    "print(df.test['Item_MRP'].count())\n",
    "plt.show()"
   ]
  },
  {
   "cell_type": "markdown",
   "metadata": {},
   "source": [
    "# Encoding The Data"
   ]
  },
  {
   "cell_type": "code",
   "execution_count": 70,
   "metadata": {},
   "outputs": [],
   "source": [
    "from sklearn.preprocessing import OrdinalEncoder\n",
    "enc=OrdinalEncoder()\n",
    "\n",
    "for i in df.test.columns:\n",
    "    if df.test[i].dtypes==\"object\":\n",
    "        df.test[i]=enc.fit_transform(df.test[i].values.reshape(-1,1))"
   ]
  },
  {
   "cell_type": "code",
   "execution_count": 71,
   "metadata": {},
   "outputs": [
    {
     "data": {
      "text/html": [
       "<div>\n",
       "<style scoped>\n",
       "    .dataframe tbody tr th:only-of-type {\n",
       "        vertical-align: middle;\n",
       "    }\n",
       "\n",
       "    .dataframe tbody tr th {\n",
       "        vertical-align: top;\n",
       "    }\n",
       "\n",
       "    .dataframe thead th {\n",
       "        text-align: right;\n",
       "    }\n",
       "</style>\n",
       "<table border=\"1\" class=\"dataframe\">\n",
       "  <thead>\n",
       "    <tr style=\"text-align: right;\">\n",
       "      <th></th>\n",
       "      <th>Item_Identifier</th>\n",
       "      <th>Item_Weight</th>\n",
       "      <th>Item_Fat_Content</th>\n",
       "      <th>Item_Visibility</th>\n",
       "      <th>Item_Type</th>\n",
       "      <th>Item_MRP</th>\n",
       "      <th>Outlet_Identifier</th>\n",
       "      <th>Outlet_Establishment_Year</th>\n",
       "      <th>Outlet_Size</th>\n",
       "      <th>Outlet_Location_Type</th>\n",
       "      <th>Outlet_Type</th>\n",
       "    </tr>\n",
       "  </thead>\n",
       "  <tbody>\n",
       "    <tr>\n",
       "      <th>0</th>\n",
       "      <td>1103.0</td>\n",
       "      <td>20.750000</td>\n",
       "      <td>1.0</td>\n",
       "      <td>0.007565</td>\n",
       "      <td>13.0</td>\n",
       "      <td>107.8622</td>\n",
       "      <td>9.0</td>\n",
       "      <td>1999</td>\n",
       "      <td>2.0</td>\n",
       "      <td>0.0</td>\n",
       "      <td>1.0</td>\n",
       "    </tr>\n",
       "    <tr>\n",
       "      <th>1</th>\n",
       "      <td>1067.0</td>\n",
       "      <td>8.300000</td>\n",
       "      <td>4.0</td>\n",
       "      <td>0.038428</td>\n",
       "      <td>4.0</td>\n",
       "      <td>87.3198</td>\n",
       "      <td>2.0</td>\n",
       "      <td>2007</td>\n",
       "      <td>0.0</td>\n",
       "      <td>1.0</td>\n",
       "      <td>1.0</td>\n",
       "    </tr>\n",
       "    <tr>\n",
       "      <th>2</th>\n",
       "      <td>1406.0</td>\n",
       "      <td>14.600000</td>\n",
       "      <td>1.0</td>\n",
       "      <td>0.099575</td>\n",
       "      <td>11.0</td>\n",
       "      <td>241.7538</td>\n",
       "      <td>0.0</td>\n",
       "      <td>1998</td>\n",
       "      <td>0.0</td>\n",
       "      <td>2.0</td>\n",
       "      <td>0.0</td>\n",
       "    </tr>\n",
       "    <tr>\n",
       "      <th>3</th>\n",
       "      <td>809.0</td>\n",
       "      <td>7.315000</td>\n",
       "      <td>1.0</td>\n",
       "      <td>0.015388</td>\n",
       "      <td>13.0</td>\n",
       "      <td>155.0340</td>\n",
       "      <td>2.0</td>\n",
       "      <td>2007</td>\n",
       "      <td>0.0</td>\n",
       "      <td>1.0</td>\n",
       "      <td>1.0</td>\n",
       "    </tr>\n",
       "    <tr>\n",
       "      <th>4</th>\n",
       "      <td>1184.0</td>\n",
       "      <td>12.695633</td>\n",
       "      <td>2.0</td>\n",
       "      <td>0.118599</td>\n",
       "      <td>4.0</td>\n",
       "      <td>234.2300</td>\n",
       "      <td>5.0</td>\n",
       "      <td>1985</td>\n",
       "      <td>2.0</td>\n",
       "      <td>2.0</td>\n",
       "      <td>3.0</td>\n",
       "    </tr>\n",
       "  </tbody>\n",
       "</table>\n",
       "</div>"
      ],
      "text/plain": [
       "   Item_Identifier  Item_Weight  Item_Fat_Content  Item_Visibility  Item_Type  \\\n",
       "0           1103.0    20.750000               1.0         0.007565       13.0   \n",
       "1           1067.0     8.300000               4.0         0.038428        4.0   \n",
       "2           1406.0    14.600000               1.0         0.099575       11.0   \n",
       "3            809.0     7.315000               1.0         0.015388       13.0   \n",
       "4           1184.0    12.695633               2.0         0.118599        4.0   \n",
       "\n",
       "   Item_MRP  Outlet_Identifier  Outlet_Establishment_Year  Outlet_Size  \\\n",
       "0  107.8622                9.0                       1999          2.0   \n",
       "1   87.3198                2.0                       2007          0.0   \n",
       "2  241.7538                0.0                       1998          0.0   \n",
       "3  155.0340                2.0                       2007          0.0   \n",
       "4  234.2300                5.0                       1985          2.0   \n",
       "\n",
       "   Outlet_Location_Type  Outlet_Type  \n",
       "0                   0.0          1.0  \n",
       "1                   1.0          1.0  \n",
       "2                   2.0          0.0  \n",
       "3                   1.0          1.0  \n",
       "4                   2.0          3.0  "
      ]
     },
     "execution_count": 71,
     "metadata": {},
     "output_type": "execute_result"
    }
   ],
   "source": [
    "df.test.head()"
   ]
  },
  {
   "cell_type": "markdown",
   "metadata": {},
   "source": [
    "# Checking for outliers"
   ]
  },
  {
   "cell_type": "code",
   "execution_count": 72,
   "metadata": {},
   "outputs": [
    {
     "data": {
      "image/png": "[encoded data removed]",
      "text/plain": [
       "<Figure size 1440x576 with 1 Axes>"
      ]
     },
     "metadata": {
      "needs_background": "light"
     },
     "output_type": "display_data"
    }
   ],
   "source": [
    "df.test.boxplot(figsize=[20,8])\n",
    "plt.subplots_adjust(bottom=.25)\n",
    "plt.show()"
   ]
  },
  {
   "cell_type": "markdown",
   "metadata": {},
   "source": [
    "Rearly any outliers colud be seen. "
   ]
  },
  {
   "cell_type": "code",
   "execution_count": null,
   "metadata": {},
   "outputs": [],
   "source": []
  },
  {
   "cell_type": "markdown",
   "metadata": {},
   "source": [
    "# Loading Train Model"
   ]
  },
  {
   "cell_type": "code",
   "execution_count": 67,
   "metadata": {},
   "outputs": [],
   "source": [
    "fitted_model=pickle.load(open('bigdatamart_train_project.pkl','rb'))"
   ]
  },
  {
   "cell_type": "code",
   "execution_count": 68,
   "metadata": {},
   "outputs": [
    {
     "data": {
      "text/plain": [
       "RandomForestRegressor()"
      ]
     },
     "execution_count": 68,
     "metadata": {},
     "output_type": "execute_result"
    }
   ],
   "source": [
    "fitted_model"
   ]
  },
  {
   "cell_type": "code",
   "execution_count": 73,
   "metadata": {},
   "outputs": [],
   "source": [
    "predictions=fitted_model.predict(df.test)"
   ]
  },
  {
   "cell_type": "code",
   "execution_count": 75,
   "metadata": {},
   "outputs": [
    {
     "data": {
      "text/plain": [
       "array([4479.20279 , 4407.076676, 4310.45578 , ..., 4445.28028 ,\n",
       "       4386.017422, 4421.364744])"
      ]
     },
     "execution_count": 75,
     "metadata": {},
     "output_type": "execute_result"
    }
   ],
   "source": [
    "predictions"
   ]
  },
  {
   "cell_type": "code",
   "execution_count": null,
   "metadata": {},
   "outputs": [],
   "source": []
  }
 ],
 "metadata": {
  "kernelspec": {
   "display_name": "Python 3",
   "language": "python",
   "name": "python3"
  },
  "language_info": {
   "codemirror_mode": {
    "name": "ipython",
    "version": 3
   },
   "file_extension": ".py",
   "mimetype": "text/x-python",
   "name": "python",
   "nbconvert_exporter": "python",
   "pygments_lexer": "ipython3",
   "version": "3.8.3"
  }
 },
 "nbformat": 4,
 "nbformat_minor": 4
}
